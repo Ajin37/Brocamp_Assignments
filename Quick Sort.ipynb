{
 "cells": [
  {
   "cell_type": "markdown",
   "id": "48c0c188",
   "metadata": {},
   "source": [
    "## 1. Implement the Quicksort algorithm in Python"
   ]
  },
  {
   "cell_type": "code",
   "execution_count": 1,
   "id": "e5acb629",
   "metadata": {},
   "outputs": [
    {
     "name": "stdout",
     "output_type": "stream",
     "text": [
      "Sorted array: [11, 12, 22, 25, 34, 64, 90]\n"
     ]
    }
   ],
   "source": [
    "def quick_sort(arr):\n",
    "    if len(arr) <= 1:\n",
    "        return arr\n",
    "\n",
    "    pivot = arr[len(arr) // 2]\n",
    "    left = [x for x in arr if x < pivot]\n",
    "    middle = [x for x in arr if x == pivot]\n",
    "    right = [x for x in arr if x > pivot]\n",
    "\n",
    "    return quick_sort(left) + middle + quick_sort(right)\n",
    "\n",
    "# Example usage:\n",
    "my_list = [64, 34, 25, 12, 22, 11, 90]\n",
    "sorted_list = quick_sort(my_list)\n",
    "print(\"Sorted array:\", sorted_list)"
   ]
  },
  {
   "cell_type": "markdown",
   "id": "85c836b4",
   "metadata": {},
   "source": [
    "## 2.Find the kth smallest element in an unsorted list using the Quicksort algorithm."
   ]
  },
  {
   "cell_type": "code",
   "execution_count": 2,
   "id": "447b1a27",
   "metadata": {},
   "outputs": [
    {
     "name": "stdout",
     "output_type": "stream",
     "text": [
      "The 3th smallest element is: 25\n"
     ]
    }
   ],
   "source": [
    "def kth_smallest_element_quick_sort(arr, k):\n",
    "    if len(arr) <= k:\n",
    "        return None\n",
    "\n",
    "    pivot = arr[len(arr) // 2]\n",
    "    left = [x for x in arr if x < pivot]\n",
    "    right = [x for x in arr if x > pivot]\n",
    "\n",
    "    if k < len(left):\n",
    "        return kth_smallest_element_quick_sort(left, k)\n",
    "    elif k == len(left):\n",
    "        return pivot\n",
    "    else:\n",
    "        return kth_smallest_element_quick_sort(right, k - len(left) - 1)\n",
    "\n",
    "# Example usage:\n",
    "my_list = [64, 34, 25, 12, 22, 11, 90]\n",
    "k_value = 3\n",
    "result = kth_smallest_element_quick_sort(my_list, k_value)\n",
    "print(f\"The {k_value}th smallest element is:\", result)"
   ]
  },
  {
   "cell_type": "markdown",
   "id": "2f24791e",
   "metadata": {},
   "source": [
    "## 3.Implement an in-place version of the Quicksort algorithm"
   ]
  },
  {
   "cell_type": "code",
   "execution_count": 3,
   "id": "6b6c23f7",
   "metadata": {},
   "outputs": [
    {
     "name": "stdout",
     "output_type": "stream",
     "text": [
      "Sorted array in-place: [11, 12, 22, 25, 34, 64, 90]\n"
     ]
    }
   ],
   "source": [
    "def quick_sort_in_place(arr, low, high):\n",
    "    if low < high:\n",
    "        pivot_index = partition(arr, low, high)\n",
    "        quick_sort_in_place(arr, low, pivot_index)\n",
    "        quick_sort_in_place(arr, pivot_index + 1, high)\n",
    "\n",
    "def partition(arr, low, high):\n",
    "    pivot = arr[(low + high) // 2]\n",
    "    i = low - 1\n",
    "    j = high + 1\n",
    "    while True:\n",
    "        i += 1\n",
    "        while arr[i] < pivot:\n",
    "            i += 1\n",
    "\n",
    "        j -= 1\n",
    "        while arr[j] > pivot:\n",
    "            j -= 1\n",
    "\n",
    "        if i >= j:\n",
    "            return j\n",
    "\n",
    "        arr[i], arr[j] = arr[j], arr[i]\n",
    "\n",
    "# Example usage:\n",
    "my_list = [64, 34, 25, 12, 22, 11, 90]\n",
    "quick_sort_in_place(my_list, 0, len(my_list) - 1)\n",
    "print(\"Sorted array in-place:\", my_list)"
   ]
  }
 ],
 "metadata": {
  "kernelspec": {
   "display_name": "Python 3 (ipykernel)",
   "language": "python",
   "name": "python3"
  },
  "language_info": {
   "codemirror_mode": {
    "name": "ipython",
    "version": 3
   },
   "file_extension": ".py",
   "mimetype": "text/x-python",
   "name": "python",
   "nbconvert_exporter": "python",
   "pygments_lexer": "ipython3",
   "version": "3.9.7"
  }
 },
 "nbformat": 4,
 "nbformat_minor": 5
}
