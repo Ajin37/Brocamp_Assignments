{
 "cells": [
  {
   "cell_type": "code",
   "execution_count": 49,
   "id": "26fd23d5",
   "metadata": {},
   "outputs": [],
   "source": [
    "class Node:\n",
    "    def __init__(self,value,ref=None):\n",
    "        self.value = value\n",
    "        self.ref = ref\n",
    "        \n",
    "class Linked_List:\n",
    "    def __init__(self):\n",
    "        self.head = None\n",
    "        \n",
    "    def traverse(self):\n",
    "        n = self.head\n",
    "        if self.head is None:\n",
    "            print(\"The linked list is empty\")\n",
    "\n",
    "        else:\n",
    "            while self.head is not None:\n",
    "                print(self.head.value)\n",
    "                self.head = self.head.ref\n",
    "        self.head = n\n",
    "        \n",
    "                \n",
    "    def add_begin(self,value):\n",
    "        new_node = Node(value)\n",
    "        new_node.ref = self.head\n",
    "        self.head = new_node\n",
    "        \n",
    "    def add_end(self,value):\n",
    "        new_node = Node(value)\n",
    "        if self.head is None:\n",
    "            self.head = new_node\n",
    "        else:\n",
    "            n = self.head\n",
    "            while n.ref is not None:\n",
    "                n = n.ref\n",
    "            n.ref =new_node\n",
    "        \n",
    "    \n",
    "    def add_after_specified(self, value, x):\n",
    "        n = self.head\n",
    "        while n is not None:\n",
    "            if x == n.value:\n",
    "                break\n",
    "            n = n.ref\n",
    "        else:\n",
    "            print(f\"{x} not present in LL\")\n",
    "            return\n",
    "\n",
    "        new_node = Node(value)\n",
    "        new_node.ref = n.ref\n",
    "        n.ref = new_node\n",
    "        \n",
    "    def add_after_value_apj(self,value,x):\n",
    "        n = self.head\n",
    "\n",
    "        if n is None:\n",
    "            print(\"LL is empty\")\n",
    "            return\n",
    "            \n",
    "        else:\n",
    "            while n is not None:\n",
    "                if n.value == x:\n",
    "                    break\n",
    "                n = n.ref\n",
    "            else:\n",
    "                print(\"value not present\")\n",
    "        \n",
    "        new_node = Node(value)\n",
    "        new_node.ref = n.ref\n",
    "        n.ref = new_node\n",
    "        \n",
    "        \n",
    "    def add_before_value_apj(self,value,x):\n",
    "        n=self.head \n",
    "        if n is None:\n",
    "            print(\"LL is empty\")\n",
    "            break\n",
    "        else:\n",
    "            while n is not None:\n",
    "                if x == n.value:\n",
    "                    return\n",
    "                temp = n\n",
    "                n = n.ref\n",
    "               "
   ]
  },
  {
   "cell_type": "code",
   "execution_count": 50,
   "id": "86043a04",
   "metadata": {},
   "outputs": [],
   "source": [
    "l1 = Linked_List()\n"
   ]
  },
  {
   "cell_type": "code",
   "execution_count": 51,
   "id": "c4a4763d",
   "metadata": {},
   "outputs": [
    {
     "name": "stdout",
     "output_type": "stream",
     "text": [
      "The linked list is empty\n"
     ]
    }
   ],
   "source": [
    "l1.traverse()"
   ]
  },
  {
   "cell_type": "code",
   "execution_count": 52,
   "id": "52115c92",
   "metadata": {},
   "outputs": [
    {
     "name": "stdout",
     "output_type": "stream",
     "text": [
      "LL is empty\n"
     ]
    }
   ],
   "source": [
    "l1.add_after_value_apj(99,30)"
   ]
  },
  {
   "cell_type": "code",
   "execution_count": null,
   "id": "55d924ed",
   "metadata": {},
   "outputs": [],
   "source": []
  }
 ],
 "metadata": {
  "kernelspec": {
   "display_name": "Python 3 (ipykernel)",
   "language": "python",
   "name": "python3"
  },
  "language_info": {
   "codemirror_mode": {
    "name": "ipython",
    "version": 3
   },
   "file_extension": ".py",
   "mimetype": "text/x-python",
   "name": "python",
   "nbconvert_exporter": "python",
   "pygments_lexer": "ipython3",
   "version": "3.9.7"
  }
 },
 "nbformat": 4,
 "nbformat_minor": 5
}
