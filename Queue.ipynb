{
 "cells": [
  {
   "cell_type": "markdown",
   "id": "3b23ecd3",
   "metadata": {},
   "source": [
    "## 1.Implement a Circular Queue"
   ]
  },
  {
   "cell_type": "code",
   "execution_count": 1,
   "id": "6afb3bec",
   "metadata": {},
   "outputs": [
    {
     "name": "stdout",
     "output_type": "stream",
     "text": [
      "Dequeue: 1\n",
      "Dequeue: 2\n"
     ]
    }
   ],
   "source": [
    "class CircularQueue:\n",
    "    def __init__(self, capacity):\n",
    "        self.capacity = capacity\n",
    "        self.queue = [None] * capacity\n",
    "        self.front = self.rear = -1\n",
    "\n",
    "    def enqueue(self, item):\n",
    "        if (self.rear + 1) % self.capacity == self.front:\n",
    "            print(\"Queue is full. Cannot enqueue.\")\n",
    "        elif self.front == -1:\n",
    "            self.front = self.rear = 0\n",
    "            self.queue[self.rear] = item\n",
    "        else:\n",
    "            self.rear = (self.rear + 1) % self.capacity\n",
    "            self.queue[self.rear] = item\n",
    "\n",
    "    def dequeue(self):\n",
    "        if self.front == -1:\n",
    "            print(\"Queue is empty. Cannot dequeue.\")\n",
    "        elif self.front == self.rear:\n",
    "            item = self.queue[self.front]\n",
    "            self.front = self.rear = -1\n",
    "            return item\n",
    "        else:\n",
    "            item = self.queue[self.front]\n",
    "            self.front = (self.front + 1) % self.capacity\n",
    "            return item\n",
    "\n",
    "# Example usage:\n",
    "cq = CircularQueue(5)\n",
    "cq.enqueue(1)\n",
    "cq.enqueue(2)\n",
    "cq.enqueue(3)\n",
    "cq.enqueue(4)\n",
    "cq.enqueue(5)\n",
    "\n",
    "print(\"Dequeue:\", cq.dequeue())  # Output: 1\n",
    "cq.enqueue(6)\n",
    "print(\"Dequeue:\", cq.dequeue())  # Output: 2"
   ]
  },
  {
   "cell_type": "markdown",
   "id": "ced194c2",
   "metadata": {},
   "source": [
    "## 2.Implement a Queue using Stacks"
   ]
  },
  {
   "cell_type": "code",
   "execution_count": 2,
   "id": "c3d4ceef",
   "metadata": {},
   "outputs": [
    {
     "name": "stdout",
     "output_type": "stream",
     "text": [
      "Dequeue: 1\n",
      "Dequeue: 2\n"
     ]
    }
   ],
   "source": [
    "class QueueUsingStacks:\n",
    "    def __init__(self):\n",
    "        self.stack1 = []\n",
    "        self.stack2 = []\n",
    "\n",
    "    def enqueue(self, item):\n",
    "        self.stack1.append(item)\n",
    "\n",
    "    def dequeue(self):\n",
    "        if not self.stack1 and not self.stack2:\n",
    "            print(\"Queue is empty. Cannot dequeue.\")\n",
    "        elif not self.stack2:\n",
    "            while self.stack1:\n",
    "                self.stack2.append(self.stack1.pop())\n",
    "        return self.stack2.pop()\n",
    "\n",
    "# Example usage:\n",
    "queue = QueueUsingStacks()\n",
    "queue.enqueue(1)\n",
    "queue.enqueue(2)\n",
    "queue.enqueue(3)\n",
    "\n",
    "print(\"Dequeue:\", queue.dequeue())  # Output: 1\n",
    "queue.enqueue(4)\n",
    "print(\"Dequeue:\", queue.dequeue())  # Output: 2"
   ]
  },
  {
   "cell_type": "markdown",
   "id": "a1642eea",
   "metadata": {},
   "source": [
    "## 3.Implement a Queue with Max Operation"
   ]
  },
  {
   "cell_type": "code",
   "execution_count": 3,
   "id": "42860d09",
   "metadata": {},
   "outputs": [
    {
     "name": "stdout",
     "output_type": "stream",
     "text": [
      "Max element: 4\n",
      "Max element after dequeue: 4\n",
      "Max element after enqueue: 5\n"
     ]
    }
   ],
   "source": [
    "from collections import deque\n",
    "\n",
    "class MaxQueue:\n",
    "    def __init__(self):\n",
    "        self.queue = deque()\n",
    "        self.max_queue = deque()\n",
    "\n",
    "    def enqueue(self, value):\n",
    "        self.queue.append(value)\n",
    "        while self.max_queue and self.max_queue[-1] < value:\n",
    "            self.max_queue.pop()\n",
    "        self.max_queue.append(value)\n",
    "\n",
    "    def dequeue(self):\n",
    "        if not self.queue:\n",
    "            print(\"Queue is empty. Cannot dequeue.\")\n",
    "        else:\n",
    "            if self.queue[0] == self.max_queue[0]:\n",
    "                self.max_queue.popleft()\n",
    "            return self.queue.popleft()\n",
    "\n",
    "    def max(self):\n",
    "        if not self.max_queue:\n",
    "            print(\"Queue is empty. No maximum element.\")\n",
    "        else:\n",
    "            return self.max_queue[0]\n",
    "\n",
    "# Example usage:\n",
    "max_queue = MaxQueue()\n",
    "max_queue.enqueue(1)\n",
    "max_queue.enqueue(3)\n",
    "max_queue.enqueue(2)\n",
    "max_queue.enqueue(4)\n",
    "\n",
    "print(\"Max element:\", max_queue.max())  # Output: 4\n",
    "max_queue.dequeue()\n",
    "print(\"Max element after dequeue:\", max_queue.max())  # Output: 3\n",
    "max_queue.enqueue(5)\n",
    "print(\"Max element after enqueue:\", max_queue.max())  # Output: 5"
   ]
  }
 ],
 "metadata": {
  "kernelspec": {
   "display_name": "Python 3 (ipykernel)",
   "language": "python",
   "name": "python3"
  },
  "language_info": {
   "codemirror_mode": {
    "name": "ipython",
    "version": 3
   },
   "file_extension": ".py",
   "mimetype": "text/x-python",
   "name": "python",
   "nbconvert_exporter": "python",
   "pygments_lexer": "ipython3",
   "version": "3.9.7"
  }
 },
 "nbformat": 4,
 "nbformat_minor": 5
}
