{
 "cells": [
  {
   "cell_type": "markdown",
   "id": "6ce1e6ef",
   "metadata": {},
   "source": [
    "## 1.Implement the Insertion Sort algorithm in Python"
   ]
  },
  {
   "cell_type": "code",
   "execution_count": 1,
   "id": "d8979f6b",
   "metadata": {},
   "outputs": [
    {
     "name": "stdout",
     "output_type": "stream",
     "text": [
      "Sorted array: [11, 12, 22, 25, 34, 64, 90]\n"
     ]
    }
   ],
   "source": [
    "def insertion_sort(arr):\n",
    "    for i in range(1, len(arr)):\n",
    "        key = arr[i]\n",
    "        j = i - 1\n",
    "        while j >= 0 and key < arr[j]:\n",
    "            arr[j + 1] = arr[j]\n",
    "            j -= 1\n",
    "        arr[j + 1] = key\n",
    "\n",
    "# Example usage:\n",
    "my_list = [64, 34, 25, 12, 22, 11, 90]\n",
    "insertion_sort(my_list)\n",
    "print(\"Sorted array:\", my_list)\n"
   ]
  },
  {
   "cell_type": "markdown",
   "id": "4d3fc0ab",
   "metadata": {},
   "source": [
    "## 2.Write a function to find the index at which an element should be inserted in a sorted list using the insertion sort approach"
   ]
  },
  {
   "cell_type": "code",
   "execution_count": 2,
   "id": "baa3eed0",
   "metadata": {},
   "outputs": [
    {
     "name": "stdout",
     "output_type": "stream",
     "text": [
      "Insert 35 at index 3\n"
     ]
    }
   ],
   "source": [
    "def find_insertion_index(sorted_list, target):\n",
    "    for i in range(len(sorted_list)):\n",
    "        if sorted_list[i] >= target:\n",
    "            return i\n",
    "    return len(sorted_list)\n",
    "\n",
    "# Example usage:\n",
    "sorted_list = [10, 20, 30, 40, 50]\n",
    "target_element = 35\n",
    "index = find_insertion_index(sorted_list, target_element)\n",
    "print(f\"Insert {target_element} at index {index}\")"
   ]
  },
  {
   "cell_type": "markdown",
   "id": "2b176cca",
   "metadata": {},
   "source": [
    "## 3.  Implement an optimized version of the Insertion Sort algorithm that uses binary search to find the correct position for inserting an element"
   ]
  },
  {
   "cell_type": "code",
   "execution_count": 3,
   "id": "2c289eac",
   "metadata": {},
   "outputs": [
    {
     "name": "stdout",
     "output_type": "stream",
     "text": [
      "Sorted array: [11, 12, 22, 25, 34, 64, 90]\n"
     ]
    }
   ],
   "source": [
    "def binary_insertion_sort(arr):\n",
    "    for i in range(1, len(arr)):\n",
    "        key = arr[i]\n",
    "        left, right = 0, i - 1\n",
    "\n",
    "        while left <= right:\n",
    "            mid = (left + right) // 2\n",
    "            if key < arr[mid]:\n",
    "                right = mid - 1\n",
    "            else:\n",
    "                left = mid + 1\n",
    "\n",
    "        for j in range(i - 1, left - 1, -1):\n",
    "            arr[j + 1] = arr[j]\n",
    "\n",
    "        arr[left] = key\n",
    "\n",
    "# Example usage:\n",
    "my_list = [64, 34, 25, 12, 22, 11, 90]\n",
    "binary_insertion_sort(my_list)\n",
    "print(\"Sorted array:\", my_list)"
   ]
  },
  {
   "cell_type": "code",
   "execution_count": null,
   "id": "7d28eed6",
   "metadata": {},
   "outputs": [],
   "source": []
  }
 ],
 "metadata": {
  "kernelspec": {
   "display_name": "Python 3 (ipykernel)",
   "language": "python",
   "name": "python3"
  },
  "language_info": {
   "codemirror_mode": {
    "name": "ipython",
    "version": 3
   },
   "file_extension": ".py",
   "mimetype": "text/x-python",
   "name": "python",
   "nbconvert_exporter": "python",
   "pygments_lexer": "ipython3",
   "version": "3.9.7"
  }
 },
 "nbformat": 4,
 "nbformat_minor": 5
}
