{
 "cells": [
  {
   "cell_type": "markdown",
   "id": "7976078e",
   "metadata": {},
   "source": [
    "<h3> 1.Rotate a String"
   ]
  },
  {
   "cell_type": "markdown",
   "id": "6ebb0cf3",
   "metadata": {},
   "source": [
    "Given two strings s and goal, return true if and only if s can become goal after some number of shifts on s.\n",
    "\n",
    "A shift on s consists of moving the leftmost character of s to the rightmost position.\n",
    "\n",
    "For example, if s = \"abcde\", then it will be \"bcdea\" after one shift.\n"
   ]
  },
  {
   "cell_type": "code",
   "execution_count": 3,
   "id": "961550b2",
   "metadata": {},
   "outputs": [
    {
     "name": "stdout",
     "output_type": "stream",
     "text": [
      "Enter the first array (s): abcde\n",
      "Enter the second array (goal): cdeab\n",
      "The second array is a rotation of the first array: True\n"
     ]
    }
   ],
   "source": [
    "def rotateString(s: str, goal: str) -> bool:\n",
    "    for i in range(len(s)):\n",
    "        if s[i] == goal[0]:\n",
    "            if s[i:] + s[:i] == goal:\n",
    "                return True\n",
    "    \n",
    "    return False\n",
    "\n",
    "# Take input from the user\n",
    "s_input = input(\"Enter the first array (s): \")\n",
    "goal_input = input(\"Enter the second array (goal): \")\n",
    "\n",
    "# Call the function with user inputs\n",
    "result = rotateString(s_input, goal_input)\n",
    "\n",
    "# Display the result\n",
    "print(\"The second array is a rotation of the first array:\", result)\n"
   ]
  },
  {
   "cell_type": "markdown",
   "id": "2e758aa1",
   "metadata": {},
   "source": [
    "<h3> 2.Make The String Great"
   ]
  },
  {
   "cell_type": "markdown",
   "id": "c6f62527",
   "metadata": {},
   "source": [
    "Given a string s of lower and upper case English letters.\n",
    "\n",
    "A good string is a string which doesn't have two adjacent characters s[i] and s[i + 1] where:\n",
    "\n",
    "0 <= i <= s.length - 2\n",
    "s[i] is a lower-case letter and s[i + 1] is the same letter but in upper-case or vice-versa.\n",
    "To make the string good, you can choose two adjacent characters that make the string bad and remove them. You can keep doing this until the string becomes good.\n",
    "\n",
    "Return the string after making it good. The answer is guaranteed to be unique under the given constraints.\n",
    "\n",
    "Notice that an empty string is also good."
   ]
  },
  {
   "cell_type": "code",
   "execution_count": 6,
   "id": "3d0f7eb0",
   "metadata": {},
   "outputs": [
    {
     "name": "stdout",
     "output_type": "stream",
     "text": [
      "Enter the string: leEeetcode\n",
      "After removing adjacent duplicates: leetcode\n"
     ]
    }
   ],
   "source": [
    "def makeGood(s: str) -> str:\n",
    "    i = 0\n",
    "    while i < len(s) - 1:\n",
    "        if s[i] == s[i + 1]:\n",
    "            i += 1\n",
    "        elif s[i].lower() == s[i + 1] or s[i].upper() == s[i + 1]:\n",
    "            s = s[:i] + s[i + 2:]\n",
    "            i = 0\n",
    "        else:\n",
    "            i += 1\n",
    "\n",
    "    return s\n",
    "\n",
    "# Take input from the user\n",
    "s_input = input(\"Enter the string: \")\n",
    "\n",
    "# Call the function with user input\n",
    "result = makeGood(s_input)\n",
    "\n",
    "# Display the result\n",
    "print(\"After removing adjacent duplicates:\", result)\n"
   ]
  },
  {
   "cell_type": "markdown",
   "id": "3d48f906",
   "metadata": {},
   "source": [
    "<h3> 3.Backspace String Compare"
   ]
  },
  {
   "cell_type": "markdown",
   "id": "741f0159",
   "metadata": {},
   "source": [
    "Given two strings s and t, return true if they are equal when both are typed into empty text editors. '#' means a backspace character.\n",
    "\n",
    "Note that after backspacing an empty text, the text will continue empty.\n",
    "\n",
    " \n",
    "\n",
    "Example 1:\n",
    "\n",
    "Input: s = \"ab#c\", t = \"ad#c\"\n",
    "Output: true\n",
    "Explanation: Both s and t become \"ac\"."
   ]
  },
  {
   "cell_type": "code",
   "execution_count": 7,
   "id": "631c5261",
   "metadata": {},
   "outputs": [
    {
     "name": "stdout",
     "output_type": "stream",
     "text": [
      "Enter the first string: ab#c\n",
      "Enter the second string: ad#c\n",
      "Are the strings equivalent after backspacing? True\n"
     ]
    }
   ],
   "source": [
    "def backspaceCompare(s: str, t: str) -> bool:\n",
    "    s_backspaced = []\n",
    "    t_backspaced = []\n",
    "\n",
    "    for i in range(len(s)):\n",
    "        if s[i] == '#':\n",
    "            if s_backspaced:\n",
    "                s_backspaced.pop()\n",
    "        else:\n",
    "            s_backspaced.append(s[i])\n",
    "\n",
    "    for i in range(len(t)):\n",
    "        if t[i] == '#':\n",
    "            if t_backspaced:\n",
    "                t_backspaced.pop()\n",
    "        else:\n",
    "            t_backspaced.append(t[i])\n",
    "\n",
    "    return s_backspaced == t_backspaced\n",
    "\n",
    "# Take input from the user\n",
    "s_input = input(\"Enter the first string: \")\n",
    "t_input = input(\"Enter the second string: \")\n",
    "\n",
    "# Call the function with user inputs\n",
    "result = backspaceCompare(s_input, t_input)\n",
    "\n",
    "# Display the result\n",
    "print(\"Are the strings equivalent after backspacing?\", result)\n"
   ]
  }
 ],
 "metadata": {
  "kernelspec": {
   "display_name": "Python 3 (ipykernel)",
   "language": "python",
   "name": "python3"
  },
  "language_info": {
   "codemirror_mode": {
    "name": "ipython",
    "version": 3
   },
   "file_extension": ".py",
   "mimetype": "text/x-python",
   "name": "python",
   "nbconvert_exporter": "python",
   "pygments_lexer": "ipython3",
   "version": "3.9.7"
  }
 },
 "nbformat": 4,
 "nbformat_minor": 5
}
