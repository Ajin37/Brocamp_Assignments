{
 "cells": [
  {
   "cell_type": "markdown",
   "id": "ff377ed7",
   "metadata": {},
   "source": [
    "## 1.Word Frequency Counter"
   ]
  },
  {
   "cell_type": "code",
   "execution_count": 1,
   "id": "668ed281",
   "metadata": {},
   "outputs": [
    {
     "name": "stdout",
     "output_type": "stream",
     "text": [
      "Word frequency: {'apple': 3, 'banana': 2, 'orange': 1}\n"
     ]
    }
   ],
   "source": [
    "def word_frequency(words):\n",
    "    frequency_dict = {}\n",
    "    for word in words:\n",
    "        frequency_dict[word] = frequency_dict.get(word, 0) + 1\n",
    "    return frequency_dict\n",
    "\n",
    "# Example usage:\n",
    "word_list = [\"apple\", \"banana\", \"apple\", \"orange\", \"banana\", \"apple\"]\n",
    "frequency_result = word_frequency(word_list)\n",
    "print(\"Word frequency:\", frequency_result)"
   ]
  },
  {
   "cell_type": "markdown",
   "id": "51c09964",
   "metadata": {},
   "source": [
    "## 2.Anagram Grouping"
   ]
  },
  {
   "cell_type": "code",
   "execution_count": 2,
   "id": "e249d77c",
   "metadata": {},
   "outputs": [
    {
     "name": "stdout",
     "output_type": "stream",
     "text": [
      "Anagram groups: [['listen', 'silent', 'enlist'], ['hello'], ['world']]\n"
     ]
    }
   ],
   "source": [
    "def group_anagrams(words):\n",
    "    anagram_groups = {}\n",
    "    for word in words:\n",
    "        sorted_word = ''.join(sorted(word))\n",
    "        if sorted_word not in anagram_groups:\n",
    "            anagram_groups[sorted_word] = [word]\n",
    "        else:\n",
    "            anagram_groups[sorted_word].append(word)\n",
    "    return list(anagram_groups.values())\n",
    "\n",
    "# Example usage:\n",
    "word_list = [\"listen\", \"silent\", \"enlist\", \"hello\", \"world\"]\n",
    "anagram_groups_result = group_anagrams(word_list)\n",
    "print(\"Anagram groups:\", anagram_groups_result)"
   ]
  },
  {
   "cell_type": "markdown",
   "id": "dd2583ef",
   "metadata": {},
   "source": [
    "## 3.Unique Elements Counter"
   ]
  },
  {
   "cell_type": "code",
   "execution_count": 3,
   "id": "20781ffe",
   "metadata": {},
   "outputs": [
    {
     "name": "stdout",
     "output_type": "stream",
     "text": [
      "Number of unique elements: 6\n"
     ]
    }
   ],
   "source": [
    "def count_unique_elements(elements):\n",
    "    unique_count = {}\n",
    "    for element in elements:\n",
    "        unique_count[element] = 1\n",
    "    return len(unique_count)\n",
    "\n",
    "# Example usage:\n",
    "element_list = [1, 2, 3, 4, 2, 3, 5, 6, 1]\n",
    "unique_count_result = count_unique_elements(element_list)\n",
    "print(\"Number of unique elements:\", unique_count_result)"
   ]
  }
 ],
 "metadata": {
  "kernelspec": {
   "display_name": "Python 3 (ipykernel)",
   "language": "python",
   "name": "python3"
  },
  "language_info": {
   "codemirror_mode": {
    "name": "ipython",
    "version": 3
   },
   "file_extension": ".py",
   "mimetype": "text/x-python",
   "name": "python",
   "nbconvert_exporter": "python",
   "pygments_lexer": "ipython3",
   "version": "3.9.7"
  }
 },
 "nbformat": 4,
 "nbformat_minor": 5
}
