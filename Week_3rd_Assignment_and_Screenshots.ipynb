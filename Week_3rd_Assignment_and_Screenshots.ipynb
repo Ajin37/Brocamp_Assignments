{
 "cells": [
  {
   "cell_type": "markdown",
   "id": "cd295e76",
   "metadata": {},
   "source": [
    "<h3>1. Accept a char input from the user and display it on the console"
   ]
  },
  {
   "cell_type": "code",
   "execution_count": 3,
   "id": "29b84a28",
   "metadata": {},
   "outputs": [
    {
     "name": "stdout",
     "output_type": "stream",
     "text": [
      "Please enter your name Ajin P Joy\n",
      "The name you have entered is Ajin P Joy\n"
     ]
    }
   ],
   "source": [
    "person_name=input(\"Please enter your name \")\n",
    "print(\"The name you have entered is\",person_name)"
   ]
  },
  {
   "cell_type": "markdown",
   "id": "b85f2eff",
   "metadata": {},
   "source": [
    "<h3>2. Accept two inputs from the user and output its sum."
   ]
  },
  {
   "cell_type": "code",
   "execution_count": 2,
   "id": "03c6e6cf",
   "metadata": {},
   "outputs": [
    {
     "name": "stdout",
     "output_type": "stream",
     "text": [
      "Please enter 2 numbers :10\n",
      ":5\n",
      "The sum of 2 numbers is: 15.0\n"
     ]
    }
   ],
   "source": [
    "number_1=int(input(\"Please enter 2 numbers :\"))\n",
    "number_2=float(input(\":\"))\n",
    "\n",
    "sum_of_numbers=number_1+number_2\n",
    "\n",
    "print(\"The sum of 2 numbers is:\",sum_of_numbers)"
   ]
  },
  {
   "cell_type": "markdown",
   "id": "637a23e8",
   "metadata": {},
   "source": [
    "<h3>3. Write a program to find the simple interest."
   ]
  },
  {
   "cell_type": "markdown",
   "id": "fd04d39d",
   "metadata": {},
   "source": [
    "Formula: SI=(P*R*n)/100)"
   ]
  },
  {
   "cell_type": "code",
   "execution_count": 3,
   "id": "efdc0bcf",
   "metadata": {},
   "outputs": [
    {
     "name": "stdout",
     "output_type": "stream",
     "text": [
      "Please enter the principal amount1000\n",
      "Please enter the corresponding intrest rate10\n",
      "Please enter the corresponding duration of years1\n",
      "The simple interest corresponding to the data you have provide is: 100.0\n"
     ]
    }
   ],
   "source": [
    "principal_amount=int(input(\"Please enter the principal amount\"))\n",
    "intrest_rate=float(input(\"Please enter the corresponding intrest rate\"))\n",
    "number_of_years=float(input(\"Please enter the corresponding duration of years\"))\n",
    "\n",
    "simple_interest=(principal_amount*intrest_rate*number_of_years)/100\n",
    "print(\"The simple interest corresponding to the data you have provide is:\",simple_interest)"
   ]
  },
  {
   "cell_type": "markdown",
   "id": "efdb9f8f",
   "metadata": {},
   "source": [
    "<h3>4. Write a program to check whether a student has passed or failed in a subject after he or she enters their mark (pass mark\n",
    "    for a subject is 50 out of 100)."
   ]
  },
  {
   "cell_type": "code",
   "execution_count": 9,
   "id": "7448c279",
   "metadata": {},
   "outputs": [
    {
     "name": "stdout",
     "output_type": "stream",
     "text": [
      "Please enter your marks: 97\n",
      "Congrats,You have passed\n"
     ]
    }
   ],
   "source": [
    "mark=float(input(\"Please enter your marks: \"))\n",
    "if mark<50:\n",
    "    print(\"Sorry,You have failed in the exam\")\n",
    "else:\n",
    "    print(\"Congrats,You have passed\")"
   ]
  },
  {
   "cell_type": "markdown",
   "id": "229b3f81",
   "metadata": {},
   "source": [
    "<h3>5.Write a program to show the grade obtained by a student after he/she enters their total mark percentage."
   ]
  },
  {
   "cell_type": "code",
   "execution_count": 13,
   "id": "e23751cc",
   "metadata": {
    "scrolled": true
   },
   "outputs": [
    {
     "name": "stdout",
     "output_type": "stream",
     "text": [
      "Please enter your total marks: 79\n",
      "C Grade\n"
     ]
    }
   ],
   "source": [
    "total_mark=float(input(\"Please enter your total marks: \"))\n",
    "\n",
    "if total_mark>=90:\n",
    "    print(\"A Grade\")\n",
    "elif total_mark<90 and total_mark>=80:\n",
    "    print(\"B Grade\")\n",
    "elif total_mark<80 and total_mark>=70:\n",
    "    print(\"C Grade\")\n",
    "elif total_mark<70 and total_mark>=60:\n",
    "    print(\"G Grade\")\n",
    "elif total_mark<60 and total_mark>=50:\n",
    "    print(\"E Grade\")\n",
    "else:\n",
    "    print(\"Failed\")"
   ]
  },
  {
   "cell_type": "markdown",
   "id": "8dd6c957",
   "metadata": {},
   "source": [
    "<h3>6. Using the ‘switch case’ write a program to accept an input number from the user and output the day as follows. "
   ]
  },
  {
   "cell_type": "code",
   "execution_count": 10,
   "id": "a9f0a6d4",
   "metadata": {},
   "outputs": [
    {
     "name": "stdout",
     "output_type": "stream",
     "text": [
      "Please enter the number of day: 1\n",
      "Monday\n"
     ]
    }
   ],
   "source": [
    "number_of_day=int(input(\"Please enter the number of day: \"))\n",
    "\n",
    "def day_of_week(number_of_day):\n",
    "    days_dict={1:'Monday',\n",
    "               2:'Tuesday',\n",
    "               3:'Wednesday',\n",
    "               4:'Thursday',\n",
    "               5:'Friday',\n",
    "               6:'Saturday',\n",
    "               7:'Sunday'}\n",
    "    \n",
    "    day_name=days_dict.get(number_of_day,\"Invalid Input, please provide an input between 1 and 7\")\n",
    "    print(day_name)\n",
    "    \n",
    "day_of_week(number_of_day)"
   ]
  },
  {
   "cell_type": "markdown",
   "id": "afb6ce6f",
   "metadata": {},
   "source": [
    "<h3>7. Write a program to print the multiplication table of given numbers. Using for and while"
   ]
  },
  {
   "cell_type": "markdown",
   "id": "37ac3981",
   "metadata": {},
   "source": [
    "Using For Loop,"
   ]
  },
  {
   "cell_type": "code",
   "execution_count": 22,
   "id": "30539606",
   "metadata": {},
   "outputs": [
    {
     "name": "stdout",
     "output_type": "stream",
     "text": [
      "Enter the number for which you want to see the multiplication table: 7\n",
      "1 * 7 = 7\n",
      "2 * 7 = 14\n",
      "3 * 7 = 21\n",
      "4 * 7 = 28\n",
      "5 * 7 = 35\n",
      "6 * 7 = 42\n",
      "7 * 7 = 49\n",
      "8 * 7 = 56\n",
      "9 * 7 = 63\n",
      "10 * 7 = 70\n"
     ]
    }
   ],
   "source": [
    "number_for_table=int(input(\"Enter the number for which you want to see the multiplication table: \"))\n",
    "\n",
    "for i in range(1,11):\n",
    "    result=i*number_for_table\n",
    "    \n",
    "    print(i,\"*\",number_for_table,\"=\",result)"
   ]
  },
  {
   "cell_type": "markdown",
   "id": "ae73a192",
   "metadata": {},
   "source": [
    "Using while loop,"
   ]
  },
  {
   "cell_type": "code",
   "execution_count": 23,
   "id": "90e3e1ae",
   "metadata": {},
   "outputs": [
    {
     "name": "stdout",
     "output_type": "stream",
     "text": [
      "1 * 7 = 7\n",
      "2 * 7 = 14\n",
      "3 * 7 = 21\n",
      "4 * 7 = 28\n",
      "5 * 7 = 35\n",
      "6 * 7 = 42\n",
      "7 * 7 = 49\n",
      "8 * 7 = 56\n",
      "9 * 7 = 63\n",
      "10 * 7 = 70\n"
     ]
    }
   ],
   "source": [
    "i=1\n",
    "\n",
    "while i<=10:\n",
    "    result=i*number_for_table\n",
    "    print(i,\"*\",number_for_table,\"=\",result)\n",
    "    i=i+1"
   ]
  },
  {
   "cell_type": "markdown",
   "id": "0ac4293c",
   "metadata": {},
   "source": [
    "<h3> 8. Pattern Printing"
   ]
  },
  {
   "cell_type": "code",
   "execution_count": 5,
   "id": "6a25f2c8",
   "metadata": {},
   "outputs": [
    {
     "name": "stdout",
     "output_type": "stream",
     "text": [
      "1 \n",
      "\n",
      "1 2 \n",
      "\n",
      "1 2 3 \n",
      "\n",
      "1 2 3 4 \n",
      "\n",
      "1 2 3 4 5 \n",
      "\n"
     ]
    }
   ],
   "source": [
    "for i in range(1,6):\n",
    "    for j in range(1,i+1):\n",
    "        print(j,end=\" \")\n",
    "    print(\"\\n\")\n",
    "    "
   ]
  },
  {
   "cell_type": "markdown",
   "id": "f7680a13",
   "metadata": {},
   "source": [
    "<h3>9. Write a program to create a copy of array and add an element to copied array,show both arrays.\n"
   ]
  },
  {
   "cell_type": "code",
   "execution_count": 9,
   "id": "309e9f2e",
   "metadata": {
    "scrolled": true
   },
   "outputs": [
    {
     "name": "stdout",
     "output_type": "stream",
     "text": [
      "Enter the size of first list5\n",
      "Enter the values in to the list\n",
      "3\n",
      "4\n",
      "5\n",
      "8\n",
      "9\n",
      "Enter an element you want to append to the new list10\n",
      "The new list is:  [3, 4, 5, 8, 9, 10]\n"
     ]
    }
   ],
   "source": [
    "size_of_list_1=int(input('Enter the size of first list'))\n",
    "\n",
    "list_1=[]\n",
    "list_2=[]\n",
    "\n",
    "print(\"Enter the values in to the list\")\n",
    "for i in range(0,size_of_list_1):\n",
    "    list_1.append(int(input()))\n",
    "\n",
    "list_2=list_1.copy()\n",
    "\n",
    "new_element=int(input(\"Enter an element you want to append to the new list\"))\n",
    "list_2.append(new_element)\n",
    "\n",
    "print(\"The new list is: \",list_2)"
   ]
  },
  {
   "cell_type": "markdown",
   "id": "555a2343",
   "metadata": {},
   "source": [
    "<h3>10.  Write a program to sort an array in descending order without sort() and sorted() Program should accept and array, sort the array values in descending order and display it"
   ]
  },
  {
   "cell_type": "code",
   "execution_count": 15,
   "id": "7d8512ad",
   "metadata": {},
   "outputs": [
    {
     "name": "stdout",
     "output_type": "stream",
     "text": [
      "Enter the size of the array3\n",
      "Enter the elements in the array\n",
      "1\n",
      "2\n",
      "3\n",
      "Unsorted array : ['1', '2', '3']\n",
      "Sorted array in descending : ['3', '2', '1']\n"
     ]
    }
   ],
   "source": [
    "size=int(input(\"Enter the size of the array\"))\n",
    "array=[]\n",
    "print(\"Enter the elements in the array\")\n",
    "\n",
    "for i in range(size):\n",
    "    element=input(\"\")\n",
    "    array.append(element)\n",
    "\n",
    "print(\"Unsorted array :\",array)\n",
    "\n",
    "for i in range(size):\n",
    "    maxIndex=i\n",
    "    for j in range(i+1,size):\n",
    "        if array[j]>array[maxIndex]:\n",
    "            maxIndex=j\n",
    "    array[i],array[maxIndex]=array[maxIndex],array[i]\n",
    "\n",
    "print(\"Sorted array in descending :\",array)"
   ]
  },
  {
   "cell_type": "markdown",
   "id": "14a954df",
   "metadata": {},
   "source": [
    "<h3>11. Write a program to identify whether a string is a palindrome or not without using reverse(), slicing"
   ]
  },
  {
   "cell_type": "code",
   "execution_count": 11,
   "id": "99f19831",
   "metadata": {},
   "outputs": [
    {
     "name": "stdout",
     "output_type": "stream",
     "text": [
      "Enter a word to check if it's an palindrome: malayalam\n",
      "Its a palindrome\n"
     ]
    }
   ],
   "source": [
    "word=input(\"Enter a word to check if it's an palindrome: \")\n",
    "\n",
    "flag=0\n",
    "for i in range(0,len(word)):\n",
    "    if word[i]!=word[(len(word)-1)-i]:\n",
    "        flag=1\n",
    "        break;\n",
    "\n",
    "if flag!=1:\n",
    "    print(\"Its a palindrome\")\n",
    "    \n",
    "else:\n",
    "    print(\"Not a palindrome\")"
   ]
  },
  {
   "cell_type": "markdown",
   "id": "8c102d2b",
   "metadata": {},
   "source": [
    "<h3>12. Write a program to add to two dimensional arrays, understand the memory management of list "
   ]
  },
  {
   "cell_type": "code",
   "execution_count": 11,
   "id": "4c4d7047",
   "metadata": {},
   "outputs": [
    {
     "name": "stdout",
     "output_type": "stream",
     "text": [
      "Enter the size of the array2\n",
      "Enter the elements of the array1\n",
      "1\n",
      "2\n",
      "1\n",
      "2\n",
      "Enter the elements of the array2\n",
      "2\n",
      "1\n",
      "2\n",
      "1\n",
      "[3, 3]\n",
      "[3, 3]\n"
     ]
    }
   ],
   "source": [
    "size=int(input(\"Enter the size of the array\"))\n",
    "print(\"Enter the elements of the array1\")\n",
    "\n",
    "array1=[]\n",
    "for i in range(size):\n",
    "    row=[]\n",
    "    for j in range(size):\n",
    "        element=int(input(\"\"))\n",
    "        row.append(element)\n",
    "    array1.append(row)\n",
    "\n",
    "print(\"Enter the elements of the array2\")\n",
    "array2=[]\n",
    "for i in range(size):\n",
    "    row=[]\n",
    "    for j in range(size):\n",
    "        element=int(input(\"\"))\n",
    "        row.append(element)\n",
    "    array2.append(row)\n",
    "result=[]\n",
    "for i in range(size):\n",
    "    row=[]\n",
    "    for j in range(size):\n",
    "        sum=array1[i][j]+array2[i][j]\n",
    "        row.append(sum)\n",
    "    result.append(row)\n",
    "for row in result:\n",
    "    print(row)"
   ]
  },
  {
   "cell_type": "markdown",
   "id": "50072f9b",
   "metadata": {},
   "source": [
    "<h3>13. Grades of students using weighted average    "
   ]
  },
  {
   "cell_type": "code",
   "execution_count": 14,
   "id": "1cbfe470",
   "metadata": {
    "scrolled": true
   },
   "outputs": [
    {
     "name": "stdout",
     "output_type": "stream",
     "text": [
      "Enter your written test score: 55\n",
      "Enter your lab exam score: 73\n",
      "Enter your marks in the assignment87\n",
      "Your final grade is 61.8\n"
     ]
    }
   ],
   "source": [
    "written_test_score=int(input(\"Enter your written test score: \"))\n",
    "lab_exam_score=int(input(\"Enter your lab exam score: \"))\n",
    "assignment_score=int(input(\"Enter your marks in the assignment\"))\n",
    "\n",
    "overall_grade= (written_test_score*70)/100+(lab_exam_score*20)/100+(assignment_score*10)/100\n",
    "\n",
    "print(\"Your final grade is\",overall_grade)"
   ]
  },
  {
   "cell_type": "markdown",
   "id": "c75a58f5",
   "metadata": {},
   "source": [
    "<h3>14. Write a program using user defined functions and lambda functions"
   ]
  },
  {
   "cell_type": "code",
   "execution_count": 8,
   "id": "00d8b843",
   "metadata": {},
   "outputs": [
    {
     "name": "stdout",
     "output_type": "stream",
     "text": [
      "20\n",
      "16\n"
     ]
    }
   ],
   "source": [
    "class My_functions():\n",
    "    def add(self, a, b):\n",
    "        return a + b\n",
    "\n",
    "    multiply = lambda self, x, y: x * y\n",
    "\n",
    "f=My_functions()\n",
    "print(f.add(10,10))\n",
    "print(f.multiply(2,8))"
   ]
  },
  {
   "cell_type": "markdown",
   "id": "7f70c3eb",
   "metadata": {},
   "source": [
    "<h3> 15.Write a program to accept an array and display it on the console using functions"
   ]
  },
  {
   "cell_type": "code",
   "execution_count": 32,
   "id": "38321f94",
   "metadata": {},
   "outputs": [
    {
     "name": "stdout",
     "output_type": "stream",
     "text": [
      "Enter size of the list: 3\n",
      "Enter the elements of the list\n",
      "12\n",
      "3\n",
      "1\n",
      "The array you have entered is:\n",
      "[12, 3, 1]\n"
     ]
    }
   ],
   "source": [
    "def get_array():\n",
    "    global list\n",
    "    list=[]\n",
    "    size=int(input(\"Enter size of the list: \"))\n",
    "    print(\"Enter the elements of the list\")\n",
    "    for i in range(0,size):\n",
    "        list.append(int(input()))\n",
    "    \n",
    "\n",
    "def display_array():\n",
    "    print(\"The array you have entered is:\")\n",
    "    print(list)\n",
    "\n",
    "def main():\n",
    "    get_array()    \n",
    "    display_array()\n",
    "    \n",
    "main()"
   ]
  },
  {
   "cell_type": "markdown",
   "id": "10d4ec66",
   "metadata": {},
   "source": [
    "<h3>16.Write a program to print “HELLO WORLD “using function without using print inside of function. (“HELLO WORLD “must be inside Decorator function) "
   ]
  },
  {
   "cell_type": "code",
   "execution_count": 4,
   "id": "5734e766",
   "metadata": {},
   "outputs": [
    {
     "name": "stdout",
     "output_type": "stream",
     "text": [
      "Hello World\n"
     ]
    }
   ],
   "source": [
    "def decorator(say_hello):\n",
    "    def wrapper():\n",
    "        say_hello()\n",
    "    return wrapper\n",
    "\n",
    "@decorator\n",
    "def say_hello():\n",
    "    print(\"Hello World\")\n",
    "\n",
    "say_hello()"
   ]
  },
  {
   "cell_type": "markdown",
   "id": "258ea83d",
   "metadata": {},
   "source": [
    "<h3>17. Write a menu driven program to do the basic mathematical operations such as addition, subtraction, multiplication and division "
   ]
  },
  {
   "cell_type": "code",
   "execution_count": 9,
   "id": "c8e1134d",
   "metadata": {},
   "outputs": [
    {
     "name": "stdout",
     "output_type": "stream",
     "text": [
      "Enter first number1\n",
      "Enter second number2\n",
      "Choose an operation from the following : +,-,*,/+\n",
      "Result is:  3\n"
     ]
    }
   ],
   "source": [
    "def add(number_1,number_2):\n",
    "    return number_1+number_2\n",
    "\n",
    "def subtract(number_1,number_2):\n",
    "    return number_1-number_2\n",
    "\n",
    "def multiply(number_1,number_2):\n",
    "    return number_1*number_2\n",
    "\n",
    "def divide(number_1,number_2):\n",
    "    return number_1/number_2\n",
    "\n",
    "def main():\n",
    "    number_1=int(input(\"Enter first number\"))\n",
    "    number_2=int(input(\"Enter second number\"))\n",
    "    option=input(\"Choose an operation from the following : +,-,*,/\")\n",
    "    if option=='+' :\n",
    "        result=add(number_1,number_2)\n",
    "        print(\"Result is: \",result)\n",
    "    if option=='-' :\n",
    "        result=subtract(number_1,number_2)\n",
    "        print(\"Result is: \",result)\n",
    "    if option=='*' :\n",
    "        result=multiply(number_1,number_2)\n",
    "        print(\"Result is: \",result)\n",
    "    if option=='/' :\n",
    "        result=divide(number_1,number_2)\n",
    "        print(\"Result is: \",result)\n",
    "\n",
    "\n",
    "if __name__==\"__main__\":\n",
    "    main()"
   ]
  },
  {
   "cell_type": "markdown",
   "id": "0452e8ae",
   "metadata": {},
   "source": [
    "<h3>18. Pattern problem"
   ]
  },
  {
   "cell_type": "code",
   "execution_count": 14,
   "id": "ad574b4b",
   "metadata": {
    "scrolled": true
   },
   "outputs": [
    {
     "name": "stdout",
     "output_type": "stream",
     "text": [
      "7 8 9 10 \n",
      "4 5 6 \n",
      "2 3 \n",
      "1 \n"
     ]
    }
   ],
   "source": [
    "n=4\n",
    "k=16\n",
    "for i in range(n):\n",
    "    k=(k/2)-1\n",
    "    for j in range(i,n):\n",
    "        print(int(k),\"\",end=\"\")\n",
    "        k+=1\n",
    "    print(\"\")"
   ]
  },
  {
   "cell_type": "markdown",
   "id": "324f65d2",
   "metadata": {},
   "source": [
    "<h3> 19. Write a program to add the values of two 2D arrays"
   ]
  },
  {
   "cell_type": "code",
   "execution_count": 3,
   "id": "21cb1f1f",
   "metadata": {
    "scrolled": true
   },
   "outputs": [
    {
     "name": "stdout",
     "output_type": "stream",
     "text": [
      "Enter the size of the array2\n",
      "Enter the elements in the first array\n",
      "2\n",
      "1\n",
      "2\n",
      "3\n",
      "Enter the elements in the second array\n",
      "2\n",
      "1\n",
      "2\n",
      "3\n",
      "First matrix\n",
      "[2, 1]\n",
      "[2, 3]\n",
      "Second matrix\n",
      "[2, 1]\n",
      "[2, 3]\n",
      "Result matrix\n",
      "[4, 2]\n",
      "[4, 6]\n"
     ]
    }
   ],
   "source": [
    "class My_functions():\n",
    "\n",
    "    def getArray1(self, size):\n",
    "        print(\"Enter the elements in the first array\")\n",
    "        array1=[]\n",
    "        for i in range (size):\n",
    "            row=[]\n",
    "            for j in range (size):\n",
    "                element=int(input(\"\"))\n",
    "                row.append(element)\n",
    "            array1.append(row)\n",
    "        return array1\n",
    "\n",
    "    def getArray2(self, size):\n",
    "        print(\"Enter the elements in the second array\")\n",
    "        array2=[]\n",
    "        for i in range (size):\n",
    "            row=[]\n",
    "            for j in range (size):\n",
    "                element=int(input(\"\"))\n",
    "                row.append(element)\n",
    "            array2.append(row)\n",
    "        return array2\n",
    "\n",
    "\n",
    "    def addArray(self, array1, array2, size):\n",
    "        result=[]\n",
    "        for i in range (size):\n",
    "            row=[]\n",
    "            for j in range (size):\n",
    "                element=array1[i][j]+array2[i][j]\n",
    "                row.append(element)\n",
    "            result.append(row)\n",
    "        return result\n",
    "    \n",
    "    def displayArray(self, result):\n",
    "        print(\"Result matrix\")\n",
    "        for row in result:\n",
    "            print(row)\n",
    "\n",
    "\n",
    "size = int(input(\"Enter the size of the array\"))\n",
    "f=My_functions()\n",
    "array1=f.getArray1(size)\n",
    "array2=f.getArray2(size)\n",
    "result=f.addArray(array1, array2, size)\n",
    "print(\"First matrix\")\n",
    "for row in array1:\n",
    "    print(row)\n",
    "print(\"Second matrix\")\n",
    "for row in array2:\n",
    "    print(row)\n",
    "f.displayArray(result)"
   ]
  },
  {
   "cell_type": "markdown",
   "id": "8b2afbdd",
   "metadata": {},
   "source": [
    "<h3>20.Write a program to include all the functionalities of a calculator using ABSTRACT class and abstract method"
   ]
  },
  {
   "cell_type": "code",
   "execution_count": 13,
   "id": "5f04c632",
   "metadata": {},
   "outputs": [
    {
     "name": "stdout",
     "output_type": "stream",
     "text": [
      "Enter 2 Numbers: 5\n",
      "5\n",
      "sum : 10\n",
      "difference : 0\n",
      "product : 25\n",
      "quotient : 1.0\n"
     ]
    }
   ],
   "source": [
    "from abc import ABC, abstractmethod\n",
    "\n",
    "class Calculator(ABC):\n",
    "    @abstractmethod\n",
    "    def add(self,number_1,number_2):\n",
    "        pass\n",
    "    @abstractmethod\n",
    "    def sub(self,number_1,number_2):\n",
    "        pass\n",
    "    @abstractmethod\n",
    "    def mul(self,number_1,number_2):\n",
    "        pass\n",
    "    @abstractmethod\n",
    "    def div(self,number_1,number_2):\n",
    "        pass\n",
    "\n",
    "class Definitions(Calculator):\n",
    "    def add(self,number_1,number_2):\n",
    "        return number_1+number_2\n",
    "    def sub(self,number_1,number_2):\n",
    "        return number_1-number_2\n",
    "    def mul(self,number_1,number_2):\n",
    "        return number_1*number_2\n",
    "    def div(self,number_1,number_2):\n",
    "        return number_1/number_2\n",
    "\n",
    "number_1=int(input(\"Enter 2 Numbers: \"))\n",
    "number_2=int(input())\n",
    "c=Definitions()\n",
    "\n",
    "print(\"sum :\",c.add(number_1,number_2))\n",
    "print(\"difference :\",c.sub(number_1,number_2))\n",
    "print(\"product :\",c.mul(number_1,number_2))\n",
    "print(\"quotient :\",c.div(number_1,number_2))"
   ]
  },
  {
   "cell_type": "markdown",
   "id": "87886ca7",
   "metadata": {},
   "source": [
    "<h3>21. Write a program to build a home using inheritance"
   ]
  },
  {
   "cell_type": "code",
   "execution_count": 15,
   "id": "0983b0d4",
   "metadata": {
    "scrolled": true
   },
   "outputs": [
    {
     "name": "stdout",
     "output_type": "stream",
     "text": [
      "area of room1 300\n",
      "area of kitchen 300\n",
      "area of extra room 300\n",
      "area of room1 150\n",
      "area of kitchen 150\n",
      "area of work area 150\n"
     ]
    }
   ],
   "source": [
    "class Home:\n",
    "    def __init__(self,width,breadth):\n",
    "        self.width=width\n",
    "        self.breadth=breadth\n",
    "    def room1(self):\n",
    "        print('area of room1',self.width*self.breadth) \n",
    "\n",
    "    def kitchen(self):  \n",
    "        print('area of kitchen',self.width*self.breadth) \n",
    "\n",
    "class FirstHome(Home):\n",
    "    def extra_room(self):\n",
    "        print('area of extra room',self.width*self.breadth)\n",
    " \n",
    "class SecondHome(Home): \n",
    "    def work_area(self): \n",
    "        print(\"area of work area\",self.width*self.breadth)\n",
    "\n",
    "home1=FirstHome(10,30)\n",
    "home2=SecondHome(10,15)\n",
    "\n",
    "home1.room1()\n",
    "home1.kitchen()\n",
    "home1.extra_room()\n",
    "home2.room1()\n",
    "home2.kitchen()\n",
    "home2.work_area()"
   ]
  },
  {
   "cell_type": "markdown",
   "id": "a87061da",
   "metadata": {},
   "source": [
    "<h3>22. Write a program to create Class with name and account number and implement get and set, with property decorator and making account number and name private.  "
   ]
  },
  {
   "cell_type": "code",
   "execution_count": 17,
   "id": "11a7372b",
   "metadata": {},
   "outputs": [
    {
     "name": "stdout",
     "output_type": "stream",
     "text": [
      "Aj\n",
      "555-009\n",
      "Pj\n",
      "99-21\n"
     ]
    }
   ],
   "source": [
    "class Bank_account():\n",
    "    def __init__(self,name,accountNo):\n",
    "        self._name=name\n",
    "        self._accountNo=accountNo\n",
    "\n",
    "    @property\n",
    "    def name(self):\n",
    "        return self._name\n",
    "    \n",
    "    @name.setter\n",
    "    def name(self,new_name):\n",
    "        self._name=new_name\n",
    "\n",
    "    @property\n",
    "    def accountNo(self):\n",
    "        return self._accountNo\n",
    "\n",
    "    @accountNo.setter\n",
    "    def accountNo(self,new_accountNo):\n",
    "        self._accountNo=new_accountNo\n",
    "\n",
    "b=Bank_account(\"Aj\",\"555-009\")\n",
    "print(b.name)\n",
    "print(b.accountNo)\n",
    "\n",
    "b.name=\"Pj\"\n",
    "b.accountNo=\"99-21\"\n",
    "print(b.name)\n",
    "print(b.accountNo)\n"
   ]
  },
  {
   "cell_type": "markdown",
   "id": "3eee4e5e",
   "metadata": {},
   "source": [
    "<h3> 23. Write a function to calculate the sum of all numbers passed as its arguments. "
   ]
  },
  {
   "cell_type": "code",
   "execution_count": 1,
   "id": "56422147",
   "metadata": {},
   "outputs": [
    {
     "name": "stdout",
     "output_type": "stream",
     "text": [
      "Result is : 16\n"
     ]
    }
   ],
   "source": [
    "def sum_numbers(*nums):\n",
    "    return sum(nums)\n",
    "\n",
    "sum=sum_numbers(2,2,2,10)\n",
    "\n",
    "print(\"Result is :\",sum)"
   ]
  },
  {
   "cell_type": "markdown",
   "id": "c38e2faa",
   "metadata": {},
   "source": [
    "<h3>24. Pantry Problem"
   ]
  },
  {
   "cell_type": "code",
   "execution_count": null,
   "id": "57a59a22",
   "metadata": {},
   "outputs": [
    {
     "name": "stdout",
     "output_type": "stream",
     "text": [
      "\n",
      "Menu:\n",
      "1. Create recipe\n",
      "2. Exit\n",
      "Enter your choice (1/2):1\n",
      "Available recipes\n",
      "- Butter chicken\n",
      "- Chicken and chips\n",
      "- Pizza\n",
      "- Egg sandwich\n",
      "- Beans on toast\n",
      "- Spam a la tin\n"
     ]
    }
   ],
   "source": [
    "pantry = {\n",
    "    \"chicken\": 500,\n",
    "    \"lemon\": 2,\n",
    "    \"cumin\": 24,\n",
    "    \"paprika\": 18,\n",
    "    \"chilli powder\": 7,\n",
    "    \"yogurt\": 300,\n",
    "    \"oil\": 450,\n",
    "    \"onion\": 5,\n",
    "    \"garlic\": 9,\n",
    "    \"ginger\": 2,\n",
    "    \"tomato puree\": 125,\n",
    "    \"almonds\": 75,\n",
    "    \"rice\": 500,\n",
    "    \"coriander\": 20,\n",
    "    \"lime\": 3,\n",
    "    \"pepper\": 8,\n",
    "    \"egg\": 6,\n",
    "    \"pizza\": 2,\n",
    "    \"spam\": 1,\n",
    "}\n",
    "\n",
    "recipes = {\n",
    "    \"Butter chicken\": [\n",
    "        \"chicken\",\n",
    "              \"lemon\",\n",
    "        \"cumin\",\n",
    "        \"paprika\",\n",
    "        \"chilli powder\",\n",
    "        \"yogurt\",\n",
    "        \"oil\",\n",
    "        \"onion\",\n",
    "        \"garlic\",\n",
    "        \"ginger\",\n",
    "        \"tomato puree\",\n",
    "        \"almonds\",\n",
    "        \"rice\",\n",
    "        \"coriander\",\n",
    "        \"lime\",\n",
    "    ],\n",
    "    \"Chicken and chips\": [\n",
    "        \"chicken\",\n",
    "        \"potatoes\",\n",
    "        \"salt\",\n",
    "        \"malt vinegar\",\n",
    "    ],\n",
    "    \"Pizza\": [\n",
    "        \"pizza\",\n",
    "    ],\n",
    "    \"Egg sandwich\": [\n",
    "        \"egg\",\n",
    "        \"bread\",\n",
    "        \"butter\",\n",
    "    ],\n",
    "    \"Beans on toast\": [\n",
    "        \"beans\",\n",
    "        \"bread\",\n",
    "    ],\n",
    "    \"Spam a la tin\": [\n",
    "        \"spam\",\n",
    "        \"tin opener\",\n",
    "        \"spoon\",\n",
    "    ],\n",
    "}\n",
    "\n",
    "\n",
    "def create_recipe():\n",
    "    print(\"Available recipes\")\n",
    "    for i in recipes:\n",
    "        print(\"-\",i)\n",
    "\n",
    "    selected_recipe=input(\"Enter the recipe\")\n",
    "    if selected_recipe in recipes:\n",
    "        for i in recipes[selected_recipe]:\n",
    "            if i in pantry and pantry[i]>0:\n",
    "                pantry[i]-=1\n",
    "            else:\n",
    "                print(f\"Ingredient {i} not available!\")\n",
    "                return\n",
    "        print(\"Successfully cooked\")\n",
    "    else:\n",
    "        print(\"Invalid recipe name!\")\n",
    "\n",
    "\n",
    "\n",
    "while True:\n",
    "    print(\"\\nMenu:\")\n",
    "    print(\"1. Create recipe\")\n",
    "    print(\"2. Exit\")\n",
    "    choice=input(\"Enter your choice (1/2):\")\n",
    "    if choice=='1':\n",
    "        create_recipe()\n",
    "    elif choice=='2':\n",
    "        print(\"Exiting the program.\")\n",
    "    else:\n",
    "        print(\"Invalid choice\")"
   ]
  },
  {
   "cell_type": "markdown",
   "id": "8a97fa2d",
   "metadata": {},
   "source": [
    "<h3>25. Create a custom exception class and raise this exception when user press one in the menu and handles this exception."
   ]
  },
  {
   "cell_type": "code",
   "execution_count": 4,
   "id": "e375442e",
   "metadata": {},
   "outputs": [
    {
     "name": "stdout",
     "output_type": "stream",
     "text": [
      "\n",
      "Menu:\n",
      "1\n",
      "2\n",
      "Enter a choice1\n",
      "Caught the exception: Invalid\n",
      "Please make a valid selection.\n"
     ]
    }
   ],
   "source": [
    "class Exception(Exception):\n",
    "    pass\n",
    "\n",
    "def main():\n",
    "        try:\n",
    "            print(\"\\nMenu:\")\n",
    "            print(\"1\")\n",
    "            print(\"2\")\n",
    "            choice=input(\"Enter a choice\")\n",
    "            \n",
    "            if choice=='1':\n",
    "                raise Exception(\"Invalid\")\n",
    "\n",
    "        except Exception as e:\n",
    "            print(\"Caught the exception:\", e)\n",
    "            print(\"Please make a valid selection.\")\n",
    "\n",
    "\n",
    "if __name__ == \"__main__\":\n",
    "    main()\n"
   ]
  },
  {
   "cell_type": "markdown",
   "id": "bb0618a4",
   "metadata": {},
   "source": [
    "<h3>26. List Comprehension"
   ]
  },
  {
   "cell_type": "code",
   "execution_count": 5,
   "id": "4b40922c",
   "metadata": {},
   "outputs": [
    {
     "name": "stdout",
     "output_type": "stream",
     "text": [
      "['1*2=1', '2*2=4', '3*2=9', '4*2=16', '5*2=25', '6*2=36', '7*2=49', '8*2=64', '9*2=81', '10*2=100', '11*2=121', '12*2=144', '13*2=169', '14*2=196', '15*2=225', '16*2=256', '17*2=289', '18*2=324', '19*2=361', '20*2=400', '21*2=441', '22*2=484', '23*2=529', '24*2=576', '25*2=625']\n"
     ]
    }
   ],
   "source": [
    "list=[]\n",
    "for i in range (1,26):\n",
    "    element=f\"{i}*2={i**2}\"\n",
    "    list.append(element)\n",
    "print(list)"
   ]
  },
  {
   "cell_type": "markdown",
   "id": "0272cd31",
   "metadata": {},
   "source": [
    "<h3> 27. Using dict comprehension and a conditional argument create a dictionary from the current dictionary where only the key:value pairs with value above 2000 will be taken to the new dictionary."
   ]
  },
  {
   "cell_type": "code",
   "execution_count": 6,
   "id": "3257c46e",
   "metadata": {},
   "outputs": [
    {
     "name": "stdout",
     "output_type": "stream",
     "text": [
      "{'NFLX': 4950, 'TREX': 2400}\n"
     ]
    }
   ],
   "source": [
    "dict1={\"NFLX\":4950,\"TREX\":2400,\"FIZZ\":1800, \"XPO\":1700}\n",
    "dict2={}\n",
    "for key,value in dict1.items():\n",
    "    if value>2000:\n",
    "        dict2[key]=value\n",
    "print(dict2)"
   ]
  }
 ],
 "metadata": {
  "kernelspec": {
   "display_name": "Python 3 (ipykernel)",
   "language": "python",
   "name": "python3"
  },
  "language_info": {
   "codemirror_mode": {
    "name": "ipython",
    "version": 3
   },
   "file_extension": ".py",
   "mimetype": "text/x-python",
   "name": "python",
   "nbconvert_exporter": "python",
   "pygments_lexer": "ipython3",
   "version": "3.9.7"
  }
 },
 "nbformat": 4,
 "nbformat_minor": 5
}
