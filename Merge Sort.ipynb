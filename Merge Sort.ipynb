{
 "cells": [
  {
   "cell_type": "markdown",
   "id": "994241fe",
   "metadata": {},
   "source": [
    "## 1.Implement the Merge Sort algorithm in Python"
   ]
  },
  {
   "cell_type": "code",
   "execution_count": 1,
   "id": "c5928744",
   "metadata": {},
   "outputs": [
    {
     "name": "stdout",
     "output_type": "stream",
     "text": [
      "Sorted array: [11, 12, 22, 25, 34, 64, 90]\n"
     ]
    }
   ],
   "source": [
    "def merge_sort(arr):\n",
    "    if len(arr) <= 1:\n",
    "        return arr\n",
    "\n",
    "    mid = len(arr) // 2\n",
    "    left = merge_sort(arr[:mid])\n",
    "    right = merge_sort(arr[mid:])\n",
    "\n",
    "    return merge(left, right)\n",
    "\n",
    "def merge(left, right):\n",
    "    result = []\n",
    "    i = j = 0\n",
    "\n",
    "    while i < len(left) and j < len(right):\n",
    "        if left[i] < right[j]:\n",
    "            result.append(left[i])\n",
    "            i += 1\n",
    "        else:\n",
    "            result.append(right[j])\n",
    "            j += 1\n",
    "\n",
    "    result.extend(left[i:])\n",
    "    result.extend(right[j:])\n",
    "    return result\n",
    "\n",
    "# Example usage:\n",
    "my_list = [64, 34, 25, 12, 22, 11, 90]\n",
    "sorted_list = merge_sort(my_list)\n",
    "print(\"Sorted array:\", sorted_list)"
   ]
  },
  {
   "cell_type": "markdown",
   "id": "a205aa4a",
   "metadata": {},
   "source": [
    "## 2.Count the number of inversions in an array using the Merge Sort algorithm."
   ]
  },
  {
   "cell_type": "code",
   "execution_count": 2,
   "id": "d361c5ba",
   "metadata": {},
   "outputs": [
    {
     "name": "stdout",
     "output_type": "stream",
     "text": [
      "Sorted array: [1, 4, 5, 6, 20]\n",
      "Number of inversions: 5\n"
     ]
    }
   ],
   "source": [
    "def count_inversions(arr):\n",
    "    if len(arr) <= 1:\n",
    "        return arr, 0\n",
    "\n",
    "    mid = len(arr) // 2\n",
    "    left, inv_left = count_inversions(arr[:mid])\n",
    "    right, inv_right = count_inversions(arr[mid:])\n",
    "\n",
    "    merged, inv_merge = merge_and_count(left, right)\n",
    "\n",
    "    return merged, inv_left + inv_right + inv_merge\n",
    "\n",
    "def merge_and_count(left, right):\n",
    "    result = []\n",
    "    inversions = 0\n",
    "    i = j = 0\n",
    "\n",
    "    while i < len(left) and j < len(right):\n",
    "        if left[i] <= right[j]:\n",
    "            result.append(left[i])\n",
    "            i += 1\n",
    "        else:\n",
    "            result.append(right[j])\n",
    "            inversions += len(left) - i\n",
    "            j += 1\n",
    "\n",
    "    result.extend(left[i:])\n",
    "    result.extend(right[j:])\n",
    "    return result, inversions\n",
    "\n",
    "# Example usage:\n",
    "my_list = [1, 20, 6, 4, 5]\n",
    "sorted_list, inversion_count = count_inversions(my_list)\n",
    "print(\"Sorted array:\", sorted_list)\n",
    "print(\"Number of inversions:\", inversion_count)"
   ]
  },
  {
   "cell_type": "markdown",
   "id": "8c0f8a99",
   "metadata": {},
   "source": [
    "## 3.Implement an iterative version of the Merge Sort algorithm"
   ]
  },
  {
   "cell_type": "code",
   "execution_count": 3,
   "id": "e52c02d6",
   "metadata": {},
   "outputs": [
    {
     "name": "stdout",
     "output_type": "stream",
     "text": [
      "Sorted array (iterative): [11, 12, 22, 25, 34, 64, 90]\n"
     ]
    }
   ],
   "source": [
    "def iterative_merge_sort(arr):\n",
    "    size = 1\n",
    "    while size < len(arr):\n",
    "        for left in range(0, len(arr)-1, 2*size):\n",
    "            mid = min(left + size - 1, len(arr)-1)\n",
    "            right = min(left + 2*size - 1, len(arr)-1)\n",
    "            merged = merge(arr[left:mid+1], arr[mid+1:right+1])\n",
    "            arr[left:left+len(merged)] = merged\n",
    "        size *= 2\n",
    "\n",
    "# Example usage:\n",
    "my_list = [64, 34, 25, 12, 22, 11, 90]\n",
    "iterative_merge_sort(my_list)\n",
    "print(\"Sorted array (iterative):\", my_list)"
   ]
  }
 ],
 "metadata": {
  "kernelspec": {
   "display_name": "Python 3 (ipykernel)",
   "language": "python",
   "name": "python3"
  },
  "language_info": {
   "codemirror_mode": {
    "name": "ipython",
    "version": 3
   },
   "file_extension": ".py",
   "mimetype": "text/x-python",
   "name": "python",
   "nbconvert_exporter": "python",
   "pygments_lexer": "ipython3",
   "version": "3.9.7"
  }
 },
 "nbformat": 4,
 "nbformat_minor": 5
}
