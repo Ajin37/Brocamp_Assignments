{
 "cells": [
  {
   "cell_type": "markdown",
   "id": "efa86843",
   "metadata": {},
   "source": [
    "1. Given an unsorted list of integers and a target value, write a function to determine if the target value is present in the list. If the target is found, return its index; otherwise, return -1."
   ]
  },
  {
   "cell_type": "code",
   "execution_count": 1,
   "id": "896bb0d3",
   "metadata": {},
   "outputs": [
    {
     "name": "stdout",
     "output_type": "stream",
     "text": [
      "The target value 7 is found at index 2.\n"
     ]
    }
   ],
   "source": [
    "def linear_search(nums, target):\n",
    "    for i in range(len(nums)):\n",
    "        if nums[i] == target:\n",
    "            return i\n",
    "    return -1\n",
    "\n",
    "# Example Usage:\n",
    "numbers = [4, 2, 7, 1, 9, 5]\n",
    "target_value = 7\n",
    "\n",
    "result = linear_search(numbers, target_value)\n",
    "\n",
    "if result != -1:\n",
    "    print(f\"The target value {target_value} is found at index {result}.\")\n",
    "else:\n",
    "    print(f\"The target value {target_value} is not present in the list.\")"
   ]
  },
  {
   "cell_type": "markdown",
   "id": "81f7811f",
   "metadata": {},
   "source": [
    "2. You are given a list of names, and you are asked to find the index of a specific name in the list. Write a function to perform a linear search and return the index of the given name. If the name is not in the list, return -1."
   ]
  },
  {
   "cell_type": "code",
   "execution_count": 2,
   "id": "9414611e",
   "metadata": {},
   "outputs": [
    {
     "name": "stdout",
     "output_type": "stream",
     "text": [
      "The target name Charlie is found at index 2.\n"
     ]
    }
   ],
   "source": [
    "def linear_search_name(name_list, target_name):\n",
    "    for i in range(len(name_list)):\n",
    "        if name_list[i] == target_name:\n",
    "            return i\n",
    "    return -1\n",
    "\n",
    "# Example Usage:\n",
    "names = [\"Alice\", \"Bob\", \"Charlie\", \"David\", \"Emma\"]\n",
    "target_name = \"Charlie\"\n",
    "\n",
    "result = linear_search_name(names, target_name)\n",
    "\n",
    "if result != -1:\n",
    "    print(f\"The target name {target_name} is found at index {result}.\")\n",
    "else:\n",
    "    print(f\"The target name {target_name} is not present in the list.\")"
   ]
  },
  {
   "cell_type": "code",
   "execution_count": null,
   "id": "d569a2dc",
   "metadata": {},
   "outputs": [],
   "source": []
  }
 ],
 "metadata": {
  "kernelspec": {
   "display_name": "Python 3 (ipykernel)",
   "language": "python",
   "name": "python3"
  },
  "language_info": {
   "codemirror_mode": {
    "name": "ipython",
    "version": 3
   },
   "file_extension": ".py",
   "mimetype": "text/x-python",
   "name": "python",
   "nbconvert_exporter": "python",
   "pygments_lexer": "ipython3",
   "version": "3.9.7"
  }
 },
 "nbformat": 4,
 "nbformat_minor": 5
}
