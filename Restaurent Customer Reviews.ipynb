{
 "cells": [
  {
   "cell_type": "code",
   "execution_count": 22,
   "id": "0c2e696f",
   "metadata": {},
   "outputs": [],
   "source": [
    "import pandas as pd\n",
    "import numpy as np\n",
    "import matplotlib.pyplot as plt\n",
    "import seaborn as sns\n",
    "import nltk"
   ]
  },
  {
   "cell_type": "code",
   "execution_count": 32,
   "id": "15b4808c",
   "metadata": {},
   "outputs": [],
   "source": [
    "from nltk.corpus import stopwords\n",
    "from nltk.stem import PorterStemmer"
   ]
  },
  {
   "cell_type": "code",
   "execution_count": 44,
   "id": "cee857ee",
   "metadata": {},
   "outputs": [],
   "source": [
    "data = pd.read_csv(r\"C:\\Users\\APJ\\OneDrive\\Desktop\\Career\\Datasets\\hotel_review_NLP.csv\")"
   ]
  },
  {
   "cell_type": "code",
   "execution_count": 45,
   "id": "f7409b47",
   "metadata": {},
   "outputs": [],
   "source": [
    "data = data.sample(5000)"
   ]
  },
  {
   "cell_type": "code",
   "execution_count": 46,
   "id": "ae38db71",
   "metadata": {},
   "outputs": [],
   "source": [
    "data.drop(columns=['User_ID','Browser_Used','Device_Used'],inplace=True)"
   ]
  },
  {
   "cell_type": "code",
   "execution_count": 47,
   "id": "ae593a27",
   "metadata": {},
   "outputs": [
    {
     "data": {
      "text/html": [
       "<div>\n",
       "<style scoped>\n",
       "    .dataframe tbody tr th:only-of-type {\n",
       "        vertical-align: middle;\n",
       "    }\n",
       "\n",
       "    .dataframe tbody tr th {\n",
       "        vertical-align: top;\n",
       "    }\n",
       "\n",
       "    .dataframe thead th {\n",
       "        text-align: right;\n",
       "    }\n",
       "</style>\n",
       "<table border=\"1\" class=\"dataframe\">\n",
       "  <thead>\n",
       "    <tr style=\"text-align: right;\">\n",
       "      <th></th>\n",
       "      <th>Description</th>\n",
       "      <th>Is_Response</th>\n",
       "    </tr>\n",
       "  </thead>\n",
       "  <tbody>\n",
       "    <tr>\n",
       "      <th>37269</th>\n",
       "      <td>Stayed at this Hotel For A week its on broadwa...</td>\n",
       "      <td>happy</td>\n",
       "    </tr>\n",
       "    <tr>\n",
       "      <th>11009</th>\n",
       "      <td>So I have spent a lot of time making sure we h...</td>\n",
       "      <td>happy</td>\n",
       "    </tr>\n",
       "    <tr>\n",
       "      <th>34048</th>\n",
       "      <td>Apart from the amazing location, which this ho...</td>\n",
       "      <td>not happy</td>\n",
       "    </tr>\n",
       "    <tr>\n",
       "      <th>22464</th>\n",
       "      <td>Good points:\\nThe rooms were more apartment li...</td>\n",
       "      <td>happy</td>\n",
       "    </tr>\n",
       "    <tr>\n",
       "      <th>21675</th>\n",
       "      <td>The place is beautiful. I actually got the pla...</td>\n",
       "      <td>happy</td>\n",
       "    </tr>\n",
       "  </tbody>\n",
       "</table>\n",
       "</div>"
      ],
      "text/plain": [
       "                                             Description Is_Response\n",
       "37269  Stayed at this Hotel For A week its on broadwa...       happy\n",
       "11009  So I have spent a lot of time making sure we h...       happy\n",
       "34048  Apart from the amazing location, which this ho...   not happy\n",
       "22464  Good points:\\nThe rooms were more apartment li...       happy\n",
       "21675  The place is beautiful. I actually got the pla...       happy"
      ]
     },
     "execution_count": 47,
     "metadata": {},
     "output_type": "execute_result"
    }
   ],
   "source": [
    "data.head()"
   ]
  },
  {
   "cell_type": "code",
   "execution_count": 48,
   "id": "13467cd4",
   "metadata": {},
   "outputs": [],
   "source": [
    "import re\n",
    "import string\n",
    "\n",
    "def text_clean(text):\n",
    "    text = text.lower()\n",
    "    text = re.sub('\\[.*?\\]','',text)\n",
    "    text = re.sub(r'[^\\w\\s]','',text)\n",
    "    text = re.sub('\\w*\\d\\w*','',text)\n",
    "    text = re.sub('\\n','',text)\n",
    "    return text\n",
    "\n"
   ]
  },
  {
   "cell_type": "code",
   "execution_count": 49,
   "id": "48426461",
   "metadata": {},
   "outputs": [],
   "source": [
    "data['clean_text'] = data['Description'].apply(text_clean)"
   ]
  },
  {
   "cell_type": "code",
   "execution_count": 50,
   "id": "8e28d0fc",
   "metadata": {
    "scrolled": true
   },
   "outputs": [
    {
     "data": {
      "text/html": [
       "<div>\n",
       "<style scoped>\n",
       "    .dataframe tbody tr th:only-of-type {\n",
       "        vertical-align: middle;\n",
       "    }\n",
       "\n",
       "    .dataframe tbody tr th {\n",
       "        vertical-align: top;\n",
       "    }\n",
       "\n",
       "    .dataframe thead th {\n",
       "        text-align: right;\n",
       "    }\n",
       "</style>\n",
       "<table border=\"1\" class=\"dataframe\">\n",
       "  <thead>\n",
       "    <tr style=\"text-align: right;\">\n",
       "      <th></th>\n",
       "      <th>Description</th>\n",
       "      <th>Is_Response</th>\n",
       "      <th>clean_text</th>\n",
       "    </tr>\n",
       "  </thead>\n",
       "  <tbody>\n",
       "    <tr>\n",
       "      <th>37269</th>\n",
       "      <td>Stayed at this Hotel For A week its on broadwa...</td>\n",
       "      <td>happy</td>\n",
       "      <td>stayed at this hotel for a week its on broadwa...</td>\n",
       "    </tr>\n",
       "    <tr>\n",
       "      <th>11009</th>\n",
       "      <td>So I have spent a lot of time making sure we h...</td>\n",
       "      <td>happy</td>\n",
       "      <td>so i have spent a lot of time making sure we h...</td>\n",
       "    </tr>\n",
       "    <tr>\n",
       "      <th>34048</th>\n",
       "      <td>Apart from the amazing location, which this ho...</td>\n",
       "      <td>not happy</td>\n",
       "      <td>apart from the amazing location which this hot...</td>\n",
       "    </tr>\n",
       "    <tr>\n",
       "      <th>22464</th>\n",
       "      <td>Good points:\\nThe rooms were more apartment li...</td>\n",
       "      <td>happy</td>\n",
       "      <td>good pointsthe rooms were more apartment like ...</td>\n",
       "    </tr>\n",
       "    <tr>\n",
       "      <th>21675</th>\n",
       "      <td>The place is beautiful. I actually got the pla...</td>\n",
       "      <td>happy</td>\n",
       "      <td>the place is beautiful i actually got the plac...</td>\n",
       "    </tr>\n",
       "  </tbody>\n",
       "</table>\n",
       "</div>"
      ],
      "text/plain": [
       "                                             Description Is_Response  \\\n",
       "37269  Stayed at this Hotel For A week its on broadwa...       happy   \n",
       "11009  So I have spent a lot of time making sure we h...       happy   \n",
       "34048  Apart from the amazing location, which this ho...   not happy   \n",
       "22464  Good points:\\nThe rooms were more apartment li...       happy   \n",
       "21675  The place is beautiful. I actually got the pla...       happy   \n",
       "\n",
       "                                              clean_text  \n",
       "37269  stayed at this hotel for a week its on broadwa...  \n",
       "11009  so i have spent a lot of time making sure we h...  \n",
       "34048  apart from the amazing location which this hot...  \n",
       "22464  good pointsthe rooms were more apartment like ...  \n",
       "21675  the place is beautiful i actually got the plac...  "
      ]
     },
     "execution_count": 50,
     "metadata": {},
     "output_type": "execute_result"
    }
   ],
   "source": [
    "data.head()"
   ]
  },
  {
   "cell_type": "code",
   "execution_count": 51,
   "id": "f1113233",
   "metadata": {},
   "outputs": [],
   "source": [
    "stemmer = PorterStemmer()"
   ]
  },
  {
   "cell_type": "code",
   "execution_count": 52,
   "id": "949d75a8",
   "metadata": {},
   "outputs": [],
   "source": [
    "def stemming(text):\n",
    "    text = text.split()\n",
    "    text = [stemmer.stem(word) for word in text if not word in stopwords.words('english')]\n",
    "    text = ' '.join(text)\n",
    "    \n",
    "    return text"
   ]
  },
  {
   "cell_type": "code",
   "execution_count": 53,
   "id": "8973e77e",
   "metadata": {},
   "outputs": [],
   "source": [
    "data['clean_text'] = data['clean_text'].apply(stemming)"
   ]
  },
  {
   "cell_type": "code",
   "execution_count": 38,
   "id": "47b2fdce",
   "metadata": {},
   "outputs": [
    {
     "data": {
      "text/plain": [
       "(38932, 3)"
      ]
     },
     "execution_count": 38,
     "metadata": {},
     "output_type": "execute_result"
    }
   ],
   "source": [
    "data.shape"
   ]
  },
  {
   "cell_type": "code",
   "execution_count": 54,
   "id": "9342177c",
   "metadata": {},
   "outputs": [
    {
     "data": {
      "text/html": [
       "<div>\n",
       "<style scoped>\n",
       "    .dataframe tbody tr th:only-of-type {\n",
       "        vertical-align: middle;\n",
       "    }\n",
       "\n",
       "    .dataframe tbody tr th {\n",
       "        vertical-align: top;\n",
       "    }\n",
       "\n",
       "    .dataframe thead th {\n",
       "        text-align: right;\n",
       "    }\n",
       "</style>\n",
       "<table border=\"1\" class=\"dataframe\">\n",
       "  <thead>\n",
       "    <tr style=\"text-align: right;\">\n",
       "      <th></th>\n",
       "      <th>Description</th>\n",
       "      <th>Is_Response</th>\n",
       "      <th>clean_text</th>\n",
       "    </tr>\n",
       "  </thead>\n",
       "  <tbody>\n",
       "    <tr>\n",
       "      <th>37269</th>\n",
       "      <td>Stayed at this Hotel For A week its on broadwa...</td>\n",
       "      <td>happy</td>\n",
       "      <td>stay hotel week broadway close central park sh...</td>\n",
       "    </tr>\n",
       "    <tr>\n",
       "      <th>11009</th>\n",
       "      <td>So I have spent a lot of time making sure we h...</td>\n",
       "      <td>happy</td>\n",
       "      <td>spent lot time make sure great hotel first tri...</td>\n",
       "    </tr>\n",
       "    <tr>\n",
       "      <th>34048</th>\n",
       "      <td>Apart from the amazing location, which this ho...</td>\n",
       "      <td>not happy</td>\n",
       "      <td>apart amaz locat hotel charg lot great experi ...</td>\n",
       "    </tr>\n",
       "    <tr>\n",
       "      <th>22464</th>\n",
       "      <td>Good points:\\nThe rooms were more apartment li...</td>\n",
       "      <td>happy</td>\n",
       "      <td>good pointsth room apart like hotel like room ...</td>\n",
       "    </tr>\n",
       "    <tr>\n",
       "      <th>21675</th>\n",
       "      <td>The place is beautiful. I actually got the pla...</td>\n",
       "      <td>happy</td>\n",
       "      <td>place beauti actual got place hotwir gorgeou c...</td>\n",
       "    </tr>\n",
       "  </tbody>\n",
       "</table>\n",
       "</div>"
      ],
      "text/plain": [
       "                                             Description Is_Response  \\\n",
       "37269  Stayed at this Hotel For A week its on broadwa...       happy   \n",
       "11009  So I have spent a lot of time making sure we h...       happy   \n",
       "34048  Apart from the amazing location, which this ho...   not happy   \n",
       "22464  Good points:\\nThe rooms were more apartment li...       happy   \n",
       "21675  The place is beautiful. I actually got the pla...       happy   \n",
       "\n",
       "                                              clean_text  \n",
       "37269  stay hotel week broadway close central park sh...  \n",
       "11009  spent lot time make sure great hotel first tri...  \n",
       "34048  apart amaz locat hotel charg lot great experi ...  \n",
       "22464  good pointsth room apart like hotel like room ...  \n",
       "21675  place beauti actual got place hotwir gorgeou c...  "
      ]
     },
     "execution_count": 54,
     "metadata": {},
     "output_type": "execute_result"
    }
   ],
   "source": [
    "data.head()"
   ]
  },
  {
   "cell_type": "code",
   "execution_count": 55,
   "id": "526a20c7",
   "metadata": {},
   "outputs": [],
   "source": [
    "def change_name(text):\n",
    "    if text == 'happy':\n",
    "        return 1\n",
    "    else:\n",
    "        return 0"
   ]
  },
  {
   "cell_type": "code",
   "execution_count": 58,
   "id": "fd0d8056",
   "metadata": {},
   "outputs": [],
   "source": [
    "data['Is_Response'] = data.Is_Response.apply(change_name)"
   ]
  },
  {
   "cell_type": "code",
   "execution_count": 60,
   "id": "bac4f0c5",
   "metadata": {},
   "outputs": [],
   "source": [
    "X = data.clean_text\n",
    "y = data.Is_Response"
   ]
  },
  {
   "cell_type": "code",
   "execution_count": 61,
   "id": "6c26359d",
   "metadata": {},
   "outputs": [],
   "source": [
    "from sklearn.feature_extraction.text import CountVectorizer"
   ]
  },
  {
   "cell_type": "code",
   "execution_count": 62,
   "id": "983322ee",
   "metadata": {},
   "outputs": [],
   "source": [
    "vectorizer = CountVectorizer()"
   ]
  },
  {
   "cell_type": "code",
   "execution_count": 63,
   "id": "4f460e47",
   "metadata": {},
   "outputs": [],
   "source": [
    "from sklearn.model_selection import train_test_split\n",
    "from sklearn.ensemble import RandomForestClassifier"
   ]
  },
  {
   "cell_type": "code",
   "execution_count": 64,
   "id": "87849e57",
   "metadata": {},
   "outputs": [],
   "source": [
    "X_train,X_test,y_train,y_test = train_test_split(X,y,random_state=34)"
   ]
  },
  {
   "cell_type": "code",
   "execution_count": 65,
   "id": "a6ceed73",
   "metadata": {},
   "outputs": [],
   "source": [
    "X_train = vectorizer.fit_transform(X_train)\n",
    "X_test = vectorizer.transform(X_test)"
   ]
  },
  {
   "cell_type": "code",
   "execution_count": 66,
   "id": "39769efb",
   "metadata": {},
   "outputs": [],
   "source": [
    "forest = RandomForestClassifier()"
   ]
  },
  {
   "cell_type": "code",
   "execution_count": 67,
   "id": "16ec4ffe",
   "metadata": {},
   "outputs": [
    {
     "data": {
      "text/html": [
       "<style>#sk-container-id-1 {color: black;background-color: white;}#sk-container-id-1 pre{padding: 0;}#sk-container-id-1 div.sk-toggleable {background-color: white;}#sk-container-id-1 label.sk-toggleable__label {cursor: pointer;display: block;width: 100%;margin-bottom: 0;padding: 0.3em;box-sizing: border-box;text-align: center;}#sk-container-id-1 label.sk-toggleable__label-arrow:before {content: \"▸\";float: left;margin-right: 0.25em;color: #696969;}#sk-container-id-1 label.sk-toggleable__label-arrow:hover:before {color: black;}#sk-container-id-1 div.sk-estimator:hover label.sk-toggleable__label-arrow:before {color: black;}#sk-container-id-1 div.sk-toggleable__content {max-height: 0;max-width: 0;overflow: hidden;text-align: left;background-color: #f0f8ff;}#sk-container-id-1 div.sk-toggleable__content pre {margin: 0.2em;color: black;border-radius: 0.25em;background-color: #f0f8ff;}#sk-container-id-1 input.sk-toggleable__control:checked~div.sk-toggleable__content {max-height: 200px;max-width: 100%;overflow: auto;}#sk-container-id-1 input.sk-toggleable__control:checked~label.sk-toggleable__label-arrow:before {content: \"▾\";}#sk-container-id-1 div.sk-estimator input.sk-toggleable__control:checked~label.sk-toggleable__label {background-color: #d4ebff;}#sk-container-id-1 div.sk-label input.sk-toggleable__control:checked~label.sk-toggleable__label {background-color: #d4ebff;}#sk-container-id-1 input.sk-hidden--visually {border: 0;clip: rect(1px 1px 1px 1px);clip: rect(1px, 1px, 1px, 1px);height: 1px;margin: -1px;overflow: hidden;padding: 0;position: absolute;width: 1px;}#sk-container-id-1 div.sk-estimator {font-family: monospace;background-color: #f0f8ff;border: 1px dotted black;border-radius: 0.25em;box-sizing: border-box;margin-bottom: 0.5em;}#sk-container-id-1 div.sk-estimator:hover {background-color: #d4ebff;}#sk-container-id-1 div.sk-parallel-item::after {content: \"\";width: 100%;border-bottom: 1px solid gray;flex-grow: 1;}#sk-container-id-1 div.sk-label:hover label.sk-toggleable__label {background-color: #d4ebff;}#sk-container-id-1 div.sk-serial::before {content: \"\";position: absolute;border-left: 1px solid gray;box-sizing: border-box;top: 0;bottom: 0;left: 50%;z-index: 0;}#sk-container-id-1 div.sk-serial {display: flex;flex-direction: column;align-items: center;background-color: white;padding-right: 0.2em;padding-left: 0.2em;position: relative;}#sk-container-id-1 div.sk-item {position: relative;z-index: 1;}#sk-container-id-1 div.sk-parallel {display: flex;align-items: stretch;justify-content: center;background-color: white;position: relative;}#sk-container-id-1 div.sk-item::before, #sk-container-id-1 div.sk-parallel-item::before {content: \"\";position: absolute;border-left: 1px solid gray;box-sizing: border-box;top: 0;bottom: 0;left: 50%;z-index: -1;}#sk-container-id-1 div.sk-parallel-item {display: flex;flex-direction: column;z-index: 1;position: relative;background-color: white;}#sk-container-id-1 div.sk-parallel-item:first-child::after {align-self: flex-end;width: 50%;}#sk-container-id-1 div.sk-parallel-item:last-child::after {align-self: flex-start;width: 50%;}#sk-container-id-1 div.sk-parallel-item:only-child::after {width: 0;}#sk-container-id-1 div.sk-dashed-wrapped {border: 1px dashed gray;margin: 0 0.4em 0.5em 0.4em;box-sizing: border-box;padding-bottom: 0.4em;background-color: white;}#sk-container-id-1 div.sk-label label {font-family: monospace;font-weight: bold;display: inline-block;line-height: 1.2em;}#sk-container-id-1 div.sk-label-container {text-align: center;}#sk-container-id-1 div.sk-container {/* jupyter's `normalize.less` sets `[hidden] { display: none; }` but bootstrap.min.css set `[hidden] { display: none !important; }` so we also need the `!important` here to be able to override the default hidden behavior on the sphinx rendered scikit-learn.org. See: https://github.com/scikit-learn/scikit-learn/issues/21755 */display: inline-block !important;position: relative;}#sk-container-id-1 div.sk-text-repr-fallback {display: none;}</style><div id=\"sk-container-id-1\" class=\"sk-top-container\"><div class=\"sk-text-repr-fallback\"><pre>RandomForestClassifier()</pre><b>In a Jupyter environment, please rerun this cell to show the HTML representation or trust the notebook. <br />On GitHub, the HTML representation is unable to render, please try loading this page with nbviewer.org.</b></div><div class=\"sk-container\" hidden><div class=\"sk-item\"><div class=\"sk-estimator sk-toggleable\"><input class=\"sk-toggleable__control sk-hidden--visually\" id=\"sk-estimator-id-1\" type=\"checkbox\" checked><label for=\"sk-estimator-id-1\" class=\"sk-toggleable__label sk-toggleable__label-arrow\">RandomForestClassifier</label><div class=\"sk-toggleable__content\"><pre>RandomForestClassifier()</pre></div></div></div></div></div>"
      ],
      "text/plain": [
       "RandomForestClassifier()"
      ]
     },
     "execution_count": 67,
     "metadata": {},
     "output_type": "execute_result"
    }
   ],
   "source": [
    "forest.fit(X_train,y_train)"
   ]
  },
  {
   "cell_type": "code",
   "execution_count": 68,
   "id": "23b5e502",
   "metadata": {},
   "outputs": [],
   "source": [
    "y_pred = forest.predict(X_test)"
   ]
  },
  {
   "cell_type": "code",
   "execution_count": 69,
   "id": "dd0d420a",
   "metadata": {},
   "outputs": [],
   "source": [
    "from sklearn.metrics import accuracy_score"
   ]
  },
  {
   "cell_type": "code",
   "execution_count": 70,
   "id": "ff5aeec1",
   "metadata": {},
   "outputs": [
    {
     "data": {
      "text/plain": [
       "0.8056"
      ]
     },
     "execution_count": 70,
     "metadata": {},
     "output_type": "execute_result"
    }
   ],
   "source": [
    "accuracy_score(y_pred,y_test)"
   ]
  },
  {
   "cell_type": "code",
   "execution_count": 75,
   "id": "73a4bd99",
   "metadata": {},
   "outputs": [],
   "source": [
    "text = 'hotel was very good'"
   ]
  },
  {
   "cell_type": "code",
   "execution_count": 76,
   "id": "f54105f5",
   "metadata": {},
   "outputs": [],
   "source": [
    "trans_text = vectorizer.transform([text])"
   ]
  },
  {
   "cell_type": "code",
   "execution_count": 77,
   "id": "9de30c8f",
   "metadata": {},
   "outputs": [
    {
     "data": {
      "text/plain": [
       "array([1], dtype=int64)"
      ]
     },
     "execution_count": 77,
     "metadata": {},
     "output_type": "execute_result"
    }
   ],
   "source": [
    "forest.predict(trans_text)"
   ]
  }
 ],
 "metadata": {
  "kernelspec": {
   "display_name": "Python 3 (ipykernel)",
   "language": "python",
   "name": "python3"
  },
  "language_info": {
   "codemirror_mode": {
    "name": "ipython",
    "version": 3
   },
   "file_extension": ".py",
   "mimetype": "text/x-python",
   "name": "python",
   "nbconvert_exporter": "python",
   "pygments_lexer": "ipython3",
   "version": "3.9.7"
  }
 },
 "nbformat": 4,
 "nbformat_minor": 5
}
