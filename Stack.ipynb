{
 "cells": [
  {
   "cell_type": "markdown",
   "id": "1d1add20",
   "metadata": {},
   "source": [
    "## 1.Parentheses Matching"
   ]
  },
  {
   "cell_type": "code",
   "execution_count": 1,
   "id": "53c3c442",
   "metadata": {},
   "outputs": [
    {
     "name": "stdout",
     "output_type": "stream",
     "text": [
      "The expression '{[()]}' is balanced.\n"
     ]
    }
   ],
   "source": [
    "def is_balanced_parentheses(s):\n",
    "    stack = []\n",
    "    parentheses_map = {')': '(', '}': '{', ']': '['}\n",
    "\n",
    "    for char in s:\n",
    "        if char in parentheses_map.values():\n",
    "            stack.append(char)\n",
    "        elif char in parentheses_map:\n",
    "            if not stack or stack.pop() != parentheses_map[char]:\n",
    "                return False\n",
    "\n",
    "    return not stack\n",
    "\n",
    "# Example usage:\n",
    "expression1 = \"{[()]}\"\n",
    "\n",
    "if is_balanced_parentheses(expression1):\n",
    "    print(f\"The expression '{expression1}' is balanced.\")\n",
    "else:\n",
    "    print(f\"The expression '{expression1}' is not balanced.\")"
   ]
  },
  {
   "cell_type": "markdown",
   "id": "b9822f10",
   "metadata": {},
   "source": [
    "## 2.Evaluate Postfix Expression"
   ]
  },
  {
   "cell_type": "code",
   "execution_count": 2,
   "id": "2e7a5632",
   "metadata": {},
   "outputs": [
    {
     "name": "stdout",
     "output_type": "stream",
     "text": [
      "The result of the postfix expression '23*5+' is: 11\n"
     ]
    }
   ],
   "source": [
    "def evaluate_postfix(expression):\n",
    "    stack = []\n",
    "\n",
    "    for char in expression:\n",
    "        if char.isdigit():\n",
    "            stack.append(int(char))\n",
    "        else:\n",
    "            operand2 = stack.pop()\n",
    "            operand1 = stack.pop()\n",
    "            if char == '+':\n",
    "                stack.append(operand1 + operand2)\n",
    "            elif char == '-':\n",
    "                stack.append(operand1 - operand2)\n",
    "            elif char == '*':\n",
    "                stack.append(operand1 * operand2)\n",
    "            elif char == '/':\n",
    "                stack.append(operand1 / operand2)\n",
    "\n",
    "    return stack[0]\n",
    "\n",
    "# Example usage:\n",
    "postfix_expr = \"23*5+\"\n",
    "result = evaluate_postfix(postfix_expr)\n",
    "print(f\"The result of the postfix expression '{postfix_expr}' is: {result}\")"
   ]
  },
  {
   "cell_type": "markdown",
   "id": "6b09d177",
   "metadata": {},
   "source": [
    "## 3.Implement a Min Stack"
   ]
  },
  {
   "cell_type": "code",
   "execution_count": 3,
   "id": "df85af56",
   "metadata": {},
   "outputs": [
    {
     "name": "stdout",
     "output_type": "stream",
     "text": [
      "Top element: 2\n",
      "Minimum element: 1\n",
      "Top element after pop: 5\n"
     ]
    }
   ],
   "source": [
    "class MinStack:\n",
    "    def __init__(self):\n",
    "        self.stack = []\n",
    "        self.min_stack = []\n",
    "\n",
    "    def push(self, x):\n",
    "        self.stack.append(x)\n",
    "        if not self.min_stack or x <= self.min_stack[-1]:\n",
    "            self.min_stack.append(x)\n",
    "\n",
    "    def pop(self):\n",
    "        if self.stack:\n",
    "            popped_element = self.stack.pop()\n",
    "            if popped_element == self.min_stack[-1]:\n",
    "                self.min_stack.pop()\n",
    "\n",
    "    def top(self):\n",
    "        if self.stack:\n",
    "            return self.stack[-1]\n",
    "\n",
    "    def get_min(self):\n",
    "        if self.min_stack:\n",
    "            return self.min_stack[-1]\n",
    "\n",
    "# Example usage:\n",
    "stack = MinStack()\n",
    "stack.push(3)\n",
    "stack.push(1)\n",
    "stack.push(5)\n",
    "stack.push(2)\n",
    "\n",
    "print(\"Top element:\", stack.top())  # Output: 2\n",
    "print(\"Minimum element:\", stack.get_min())  # Output: 1\n",
    "stack.pop()\n",
    "print(\"Top element after pop:\", stack.top())  # Output: 5"
   ]
  }
 ],
 "metadata": {
  "kernelspec": {
   "display_name": "Python 3 (ipykernel)",
   "language": "python",
   "name": "python3"
  },
  "language_info": {
   "codemirror_mode": {
    "name": "ipython",
    "version": 3
   },
   "file_extension": ".py",
   "mimetype": "text/x-python",
   "name": "python",
   "nbconvert_exporter": "python",
   "pygments_lexer": "ipython3",
   "version": "3.9.7"
  }
 },
 "nbformat": 4,
 "nbformat_minor": 5
}
