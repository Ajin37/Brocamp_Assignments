{
 "cells": [
  {
   "cell_type": "markdown",
   "id": "f4946222",
   "metadata": {},
   "source": [
    "1. You are given a sorted list of integers. Write a function to find and return the position (index) of a specific target value in the list. If the target is found, return its index; otherwise, return -1."
   ]
  },
  {
   "cell_type": "code",
   "execution_count": 1,
   "id": "4c794cca",
   "metadata": {},
   "outputs": [
    {
     "name": "stdout",
     "output_type": "stream",
     "text": [
      "The target value 5 is found at index 4.\n"
     ]
    }
   ],
   "source": [
    "def binary_search(nums, target):\n",
    "    low, high = 0, len(nums) - 1\n",
    "\n",
    "    while low <= high:\n",
    "        mid = (low + high) // 2\n",
    "        mid_value = nums[mid]\n",
    "\n",
    "        if mid_value == target:\n",
    "            return mid  # Target found\n",
    "        elif mid_value < target:\n",
    "            low = mid + 1  # Search in the right half\n",
    "        else:\n",
    "            high = mid - 1  # Search in the left half\n",
    "\n",
    "    return -1  # Target not found\n",
    "\n",
    "# Example Usage:\n",
    "sorted_numbers = [1, 2, 3, 4, 5, 6, 7, 8, 9]\n",
    "target_value = 5\n",
    "\n",
    "result = binary_search(sorted_numbers, target_value)\n",
    "\n",
    "if result != -1:\n",
    "    print(f\"The target value {target_value} is found at index {result}.\")\n",
    "else:\n",
    "    print(f\"The target value {target_value} is not present in the list.\")\n"
   ]
  },
  {
   "cell_type": "markdown",
   "id": "9ca3d9d7",
   "metadata": {},
   "source": [
    "2. You are given a sorted list of names in alphabetical order. Write a function to find and return the position (index) of a specific target name in the list. If the target name is found, return its index; otherwise, return -1."
   ]
  },
  {
   "cell_type": "code",
   "execution_count": 2,
   "id": "b07a0cb4",
   "metadata": {},
   "outputs": [
    {
     "name": "stdout",
     "output_type": "stream",
     "text": [
      "The target name Charlie is found at index 2.\n"
     ]
    }
   ],
   "source": [
    "def binary_search_name(sorted_names, target_name):\n",
    "    low, high = 0, len(sorted_names) - 1\n",
    "\n",
    "    while low <= high:\n",
    "        mid = (low + high) // 2\n",
    "        mid_name = sorted_names[mid]\n",
    "\n",
    "        if mid_name == target_name:\n",
    "            return mid  # Target found\n",
    "        elif mid_name < target_name:\n",
    "            low = mid + 1  # Search in the right half\n",
    "        else:\n",
    "            high = mid - 1  # Search in the left half\n",
    "\n",
    "    return -1  # Target not found\n",
    "\n",
    "# Example Usage:\n",
    "sorted_names = [\"Alice\", \"Bob\", \"Charlie\", \"David\", \"Emma\"]\n",
    "target_name = \"Charlie\"\n",
    "\n",
    "result = binary_search_name(sorted_names, target_name)\n",
    "\n",
    "if result != -1:\n",
    "    print(f\"The target name {target_name} is found at index {result}.\")\n",
    "else:\n",
    "    print(f\"The target name {target_name} is not present in the sorted list.\")"
   ]
  },
  {
   "cell_type": "markdown",
   "id": "10af8619",
   "metadata": {},
   "source": [
    "3.You are given a sorted list of integers in ascending order. Write a function to find and return the position (index) of the largest number that is less than or equal to a specific target value in the list. If there is no such number, return -1."
   ]
  },
  {
   "cell_type": "code",
   "execution_count": 3,
   "id": "7269c454",
   "metadata": {},
   "outputs": [
    {
     "name": "stdout",
     "output_type": "stream",
     "text": [
      "The largest number less than or equal to 8 is 7, at index 3.\n"
     ]
    }
   ],
   "source": [
    "def binary_search_largest_less_than_or_equal(nums, target):\n",
    "    low, high = 0, len(nums) - 1\n",
    "    result = -1\n",
    "\n",
    "    while low <= high:\n",
    "        mid = (low + high) // 2\n",
    "        mid_value = nums[mid]\n",
    "\n",
    "        if mid_value <= target:\n",
    "            result = mid  # Update result and search in the right half\n",
    "            low = mid + 1\n",
    "        else:\n",
    "            high = mid - 1  # Search in the left half\n",
    "\n",
    "    return result\n",
    "\n",
    "# Example Usage:\n",
    "sorted_numbers = [1, 3, 5, 7, 9, 11, 13, 15]\n",
    "target_value = 8\n",
    "\n",
    "result = binary_search_largest_less_than_or_equal(sorted_numbers, target_value)\n",
    "\n",
    "if result != -1:\n",
    "    print(f\"The largest number less than or equal to {target_value} is {sorted_numbers[result]}, at index {result}.\")\n",
    "else:\n",
    "    print(f\"There is no number less than or equal to {target_value} in the list.\")\n"
   ]
  }
 ],
 "metadata": {
  "kernelspec": {
   "display_name": "Python 3 (ipykernel)",
   "language": "python",
   "name": "python3"
  },
  "language_info": {
   "codemirror_mode": {
    "name": "ipython",
    "version": 3
   },
   "file_extension": ".py",
   "mimetype": "text/x-python",
   "name": "python",
   "nbconvert_exporter": "python",
   "pygments_lexer": "ipython3",
   "version": "3.9.7"
  }
 },
 "nbformat": 4,
 "nbformat_minor": 5
}
