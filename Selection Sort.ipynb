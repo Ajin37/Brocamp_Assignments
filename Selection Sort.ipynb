{
 "cells": [
  {
   "cell_type": "markdown",
   "id": "21cdaf0b",
   "metadata": {},
   "source": [
    "## 1.Implement the Selection Sort algorithm in Python"
   ]
  },
  {
   "cell_type": "code",
   "execution_count": 1,
   "id": "36891605",
   "metadata": {},
   "outputs": [
    {
     "name": "stdout",
     "output_type": "stream",
     "text": [
      "Sorted array: [11, 12, 22, 25, 34, 64, 90]\n"
     ]
    }
   ],
   "source": [
    "def selection_sort(arr):\n",
    "    n = len(arr)\n",
    "    for i in range(n):\n",
    "        min_index = i\n",
    "        for j in range(i + 1, n):\n",
    "            if arr[j] < arr[min_index]:\n",
    "                min_index = j\n",
    "        arr[i], arr[min_index] = arr[min_index], arr[i]\n",
    "\n",
    "# Example usage:\n",
    "my_list = [64, 34, 25, 12, 22, 11, 90]\n",
    "selection_sort(my_list)\n",
    "print(\"Sorted array:\", my_list)"
   ]
  },
  {
   "cell_type": "markdown",
   "id": "9a90789c",
   "metadata": {},
   "source": [
    "## 2.Find the kth smallest element in an unsorted list using the Selection Sort algorithm."
   ]
  },
  {
   "cell_type": "code",
   "execution_count": 2,
   "id": "2e9eb151",
   "metadata": {},
   "outputs": [
    {
     "name": "stdout",
     "output_type": "stream",
     "text": [
      "The 3th smallest element is: 22\n"
     ]
    }
   ],
   "source": [
    "def kth_smallest_element(arr, k):\n",
    "    n = len(arr)\n",
    "    for i in range(k):\n",
    "        min_index = i\n",
    "        for j in range(i + 1, n):\n",
    "            if arr[j] < arr[min_index]:\n",
    "                min_index = j\n",
    "        arr[i], arr[min_index] = arr[min_index], arr[i]\n",
    "    return arr[k - 1]\n",
    "\n",
    "# Example usage:\n",
    "my_list = [64, 34, 25, 12, 22, 11, 90]\n",
    "k_value = 3\n",
    "result = kth_smallest_element(my_list, k_value)\n",
    "print(f\"The {k_value}th smallest element is:\", result)"
   ]
  },
  {
   "cell_type": "markdown",
   "id": "55d79fba",
   "metadata": {},
   "source": [
    "## 3. Implement an optimized version of the Selection Sort algorithm that finds both the minimum and maximum elements in a single pass."
   ]
  },
  {
   "cell_type": "code",
   "execution_count": 3,
   "id": "27baed63",
   "metadata": {},
   "outputs": [
    {
     "name": "stdout",
     "output_type": "stream",
     "text": [
      "Sorted array with min-max elements: [11, 12, 22, 25, 34, 64, 90]\n"
     ]
    }
   ],
   "source": [
    "def min_max_selection_sort(arr):\n",
    "    n = len(arr)\n",
    "    for i in range(n // 2):\n",
    "        min_index, max_index = i, i\n",
    "        for j in range(i + 1, n - i):\n",
    "            if arr[j] < arr[min_index]:\n",
    "                min_index = j\n",
    "            elif arr[j] > arr[max_index]:\n",
    "                max_index = j\n",
    "\n",
    "        arr[i], arr[min_index] = arr[min_index], arr[i]\n",
    "        arr[n - i - 1], arr[max_index] = arr[max_index], arr[n - i - 1]\n",
    "\n",
    "# Example usage:\n",
    "my_list = [64, 34, 25, 12, 22, 11, 90]\n",
    "min_max_selection_sort(my_list)\n",
    "print(\"Sorted array with min-max elements:\", my_list)\n"
   ]
  }
 ],
 "metadata": {
  "kernelspec": {
   "display_name": "Python 3 (ipykernel)",
   "language": "python",
   "name": "python3"
  },
  "language_info": {
   "codemirror_mode": {
    "name": "ipython",
    "version": 3
   },
   "file_extension": ".py",
   "mimetype": "text/x-python",
   "name": "python",
   "nbconvert_exporter": "python",
   "pygments_lexer": "ipython3",
   "version": "3.9.7"
  }
 },
 "nbformat": 4,
 "nbformat_minor": 5
}
