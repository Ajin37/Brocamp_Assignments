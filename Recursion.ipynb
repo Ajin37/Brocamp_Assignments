{
 "cells": [
  {
   "cell_type": "markdown",
   "id": "dba37e13",
   "metadata": {},
   "source": [
    "1.Write a recursive function to find the index of the largest number in a sorted list that is less than or equal to a specific target value. The list is sorted in ascending order. If there is no number less than or equal to the target value, return -1."
   ]
  },
  {
   "cell_type": "code",
   "execution_count": 1,
   "id": "c640415f",
   "metadata": {},
   "outputs": [
    {
     "name": "stdout",
     "output_type": "stream",
     "text": [
      "The largest number less than or equal to 8 is 7, at index 3.\n"
     ]
    }
   ],
   "source": [
    "def find_largest_less_than_or_equal(nums, target, index):\n",
    "    if index < 0:\n",
    "        return -1\n",
    "\n",
    "    current_value = nums[index]\n",
    "\n",
    "    if current_value <= target:\n",
    "        return index\n",
    "    else:\n",
    "        return find_largest_less_than_or_equal(nums, target, index - 1)\n",
    "\n",
    "# Example Usage:\n",
    "sorted_numbers = [1, 3, 5, 7, 9, 11, 13, 15]\n",
    "target_value = 8\n",
    "\n",
    "result = find_largest_less_than_or_equal(sorted_numbers, target_value, len(sorted_numbers) - 1)\n",
    "\n",
    "if result != -1:\n",
    "    print(f\"The largest number less than or equal to {target_value} is {sorted_numbers[result]}, at index {result}.\")\n",
    "else:\n",
    "    print(f\"There is no number less than or equal to {target_value} in the list.\")"
   ]
  },
  {
   "cell_type": "markdown",
   "id": "dd52fcf0",
   "metadata": {},
   "source": [
    "2.Write a recursive function to determine if a given string is a palindrome. A palindrome is a word, phrase, number, or other sequence of characters that reads the same forward and backward, ignoring spaces, punctuation, and capitalization."
   ]
  },
  {
   "cell_type": "code",
   "execution_count": 2,
   "id": "c7881991",
   "metadata": {},
   "outputs": [
    {
     "name": "stdout",
     "output_type": "stream",
     "text": [
      "The string 'A man, a plan, a canal, Panama!' is a palindrome.\n"
     ]
    }
   ],
   "source": [
    "def is_palindrome(s):\n",
    "    s = ''.join(filter(str.isalnum, s.lower()))  # Remove non-alphanumeric characters and convert to lowercase\n",
    "\n",
    "    if len(s) <= 1:\n",
    "        return True\n",
    "    elif s[0] == s[-1]:\n",
    "        return is_palindrome(s[1:-1])\n",
    "    else:\n",
    "        return False\n",
    "\n",
    "# Example Usage:\n",
    "input_string = \"A man, a plan, a canal, Panama!\"\n",
    "\n",
    "if is_palindrome(input_string):\n",
    "    print(f\"The string '{input_string}' is a palindrome.\")\n",
    "else:\n",
    "    print(f\"The string '{input_string}' is not a palindrome.\")"
   ]
  },
  {
   "cell_type": "markdown",
   "id": "a00f6270",
   "metadata": {},
   "source": [
    "3.Write a recursive function to calculate the nth Fibonacci number. The Fibonacci sequence is a series of numbers where each number is the sum of the two preceding ones, usually starting with 0 and 1. The sequence goes: 0, 1, 1, 2, 3, 5, 8, 13, 21, and so on."
   ]
  },
  {
   "cell_type": "code",
   "execution_count": 4,
   "id": "5f923002",
   "metadata": {},
   "outputs": [
    {
     "name": "stdout",
     "output_type": "stream",
     "text": [
      "The 8th Fibonacci number is: 21\n"
     ]
    }
   ],
   "source": [
    "def fibonacci(n):\n",
    "    if n <= 1:\n",
    "        return n\n",
    "    else:\n",
    "        return fibonacci(n-1) + fibonacci(n-2)\n",
    "\n",
    "# Example Usage:\n",
    "n = 8  # You can change the value of n to calculate the nth Fibonacci number\n",
    "\n",
    "result = fibonacci(n)\n",
    "\n",
    "print(f\"The {n}th Fibonacci number is: {result}\")\n"
   ]
  }
 ],
 "metadata": {
  "kernelspec": {
   "display_name": "Python 3 (ipykernel)",
   "language": "python",
   "name": "python3"
  },
  "language_info": {
   "codemirror_mode": {
    "name": "ipython",
    "version": 3
   },
   "file_extension": ".py",
   "mimetype": "text/x-python",
   "name": "python",
   "nbconvert_exporter": "python",
   "pygments_lexer": "ipython3",
   "version": "3.9.7"
  }
 },
 "nbformat": 4,
 "nbformat_minor": 5
}
