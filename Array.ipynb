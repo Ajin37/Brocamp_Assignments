{
 "cells": [
  {
   "cell_type": "markdown",
   "id": "cf854ce3",
   "metadata": {},
   "source": [
    "<h1>Array Questions"
   ]
  },
  {
   "cell_type": "markdown",
   "id": "6e3466c0",
   "metadata": {
    "deletable": false,
    "editable": false,
    "scrolled": true
   },
   "source": [
    "<h2>1. <u>Array Partition</u>\n",
    "<h3>Given an integer array nums of 2n integers, group these integers into n pairs (a1, b1), (a2, b2), ..., (an, bn) such that the sum of min(ai, bi) for all i is maximized. Return the maximized sum.<br>\n",
    "<h4>Example 1:\n",
    "\n",
    "Input: nums = [1,4,3,2]<br>\n",
    "Output: 4<br>\n",
    "Explanation: All possible pairings (ignoring the ordering of elements) are:\n",
    "1. (1, 4), (2, 3) -> min(1, 4) + min(2, 3) = 1 + 2 = 3\n",
    "2. (1, 3), (2, 4) -> min(1, 3) + min(2, 4) = 1 + 2 = 3\n",
    "3. (1, 2), (3, 4) -> min(1, 2) + min(3, 4) = 1 + 3 = 4<br>\n",
    "    \n",
    "So the maximum possible sum is 4."
   ]
  },
  {
   "cell_type": "code",
   "execution_count": 6,
   "id": "e04a193e",
   "metadata": {
    "scrolled": true
   },
   "outputs": [
    {
     "name": "stdout",
     "output_type": "stream",
     "text": [
      "Enter an even array size: 4\n",
      "please enter 4 elements to the array\n",
      "0:  4\n",
      "1:  3\n",
      "2:  2\n",
      "3:  1\n",
      "The maximized sum of minimum's of possible pairs is 4\n"
     ]
    }
   ],
   "source": [
    "value = 0\n",
    "array = []\n",
    "sum = 0\n",
    "\n",
    "array_size = int(input(\"Enter an even array size: \"))\n",
    "print(f\"please enter {array_size} elements to the array\")\n",
    "\n",
    "for i in range(array_size):\n",
    "    value = int(input(f\"{i}:  \"))\n",
    "    array.append(value)\n",
    "    \n",
    "# logic: sort the elements and take the elements in the odd position to \n",
    "# get the maximum possible minimum value\n",
    "# arr = [1,4,3,2]\n",
    "# after sorting, arr=[4,3,2,1]\n",
    "# pairs will be, arr=[(4,3),(2,1)]\n",
    "# sum = 3+1 (just return the numbers in the odd position)\n",
    "\n",
    "\n",
    "array.sort(reverse=True)\n",
    "\n",
    "for i in range(1,array_size,2):\n",
    "    sum+=i\n",
    "    \n",
    "print(f\"The maximized sum of minimum's of possible pairs is {sum}\")\n",
    "\n"
   ]
  },
  {
   "cell_type": "markdown",
   "id": "fa740d59",
   "metadata": {},
   "source": [
    "<h4>Complexity:<br>\n",
    "O(nlogn)T  #due to sorting  \n",
    "O(1)S space has to relation to number of elements in the array"
   ]
  },
  {
   "cell_type": "markdown",
   "id": "585a97e1",
   "metadata": {},
   "source": [
    "<h2>"
   ]
  },
  {
   "cell_type": "markdown",
   "id": "92df6ca0",
   "metadata": {},
   "source": [
    "<h2>2. <u>N-Repeated Element in Size 2N Array</u>"
   ]
  },
  {
   "cell_type": "markdown",
   "id": "fb75064b",
   "metadata": {},
   "source": [
    "<h2>You are given an integer array nums with the following properties:<br>\n",
    "\n",
    "<h3>nums.length == 2 * n.<br>\n",
    "nums contains n + 1 unique elements.<br>\n",
    "Exactly one element of nums is repeated n times.<br>\n",
    "Return the element that is repeated n times.<br>\n",
    "\n",
    " \n",
    "\n",
    "<h4>Example 1:<br>\n",
    "\n",
    "Input: nums = [1,2,3,3]<br>\n",
    "Output: 3"
   ]
  },
  {
   "cell_type": "code",
   "execution_count": 1,
   "id": "12d07911",
   "metadata": {},
   "outputs": [
    {
     "name": "stdout",
     "output_type": "stream",
     "text": [
      "Enter an array size: 4\n",
      "please enter 4 elements to the array\n",
      "0:  1\n",
      "1:  2\n",
      "2:  3\n",
      "3:  3\n",
      "3 is the repeating element\n"
     ]
    }
   ],
   "source": [
    "array = []\n",
    "value = 0\n",
    "\n",
    "array_size = int(input(\"Enter an array size: \"))\n",
    "print(f\"please enter {array_size} elements to the array\")\n",
    "\n",
    "for i in range(array_size):\n",
    "    value = int(input(f\"{i}:  \"))\n",
    "    array.append(value)\n",
    "    \n",
    "# use an empty array to check if the elements in the original_array is present there,\n",
    "# if not, the element is added to that array\n",
    "# if present, that element must be the repeated element\n",
    "\n",
    "temp_array = []\n",
    "for i in array:\n",
    "    if i not in temp_array:\n",
    "        temp_array.append(i)\n",
    "    else:\n",
    "        print(f\"{i} is the repeating element\")"
   ]
  },
  {
   "cell_type": "markdown",
   "id": "cb7a92bc",
   "metadata": {},
   "source": [
    "<h2> 3. <u>Alternating Digit Sum</u>\n",
    "<h3>You are given a positive integer n. <br>Each digit of n has a sign according to the following rules:\n",
    "\n",
    "<h3>The most significant digit is assigned a positive sign.<br>\n",
    "Each other digit has an opposite sign to its adjacent digits.<br>\n",
    "Return the sum of all digits with their corresponding sign.\n",
    "    \n",
    "<h4>Example 1:\n",
    "\n",
    "Input: n = 521\n",
    "Output: 4\n",
    "Explanation: (+5) + (-2) + (+1) = 4."
   ]
  },
  {
   "cell_type": "code",
   "execution_count": 3,
   "id": "fb78f940",
   "metadata": {
    "scrolled": true
   },
   "outputs": [
    {
     "name": "stdout",
     "output_type": "stream",
     "text": [
      "Please enter a number: 521\n",
      "Alternating sum is 4\n"
     ]
    }
   ],
   "source": [
    "number = int(input(\"Please enter a number: \"))\n",
    "char_number = str(number)\n",
    "sum = 0\n",
    "\n",
    "for i in range(len(char_number)):\n",
    "    if i%2 == 0:\n",
    "        sum += int(char_number[i])\n",
    "    else:\n",
    "        sum-= int(char_number[i])\n",
    "\n",
    "print(f\"Alternating sum is {sum}\")"
   ]
  }
 ],
 "metadata": {
  "kernelspec": {
   "display_name": "Python 3 (ipykernel)",
   "language": "python",
   "name": "python3"
  },
  "language_info": {
   "codemirror_mode": {
    "name": "ipython",
    "version": 3
   },
   "file_extension": ".py",
   "mimetype": "text/x-python",
   "name": "python",
   "nbconvert_exporter": "python",
   "pygments_lexer": "ipython3",
   "version": "3.9.7"
  }
 },
 "nbformat": 4,
 "nbformat_minor": 5
}
