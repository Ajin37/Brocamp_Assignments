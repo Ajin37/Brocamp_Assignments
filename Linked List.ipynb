{
 "cells": [
  {
   "cell_type": "markdown",
   "id": "791b7a85",
   "metadata": {},
   "source": [
    "<h3>1. Construction of Singly linked list & Doubly linked list"
   ]
  },
  {
   "cell_type": "code",
   "execution_count": 28,
   "id": "3bd5e02e",
   "metadata": {},
   "outputs": [],
   "source": [
    "#single linked list\n",
    "\n",
    "class Node:\n",
    "    def __init__(self,value,ref=None):\n",
    "        self.value = value\n",
    "        self.ref = ref\n",
    "        \n",
    "class Linked_List:\n",
    "    def __init__(self):\n",
    "        self.head = None\n",
    "        \n",
    "    def append(self,value):\n",
    "        new_node=Node(value)\n",
    "        n = self.head\n",
    "        \n",
    "        if n is None:\n",
    "            self.head = new_node\n",
    "            return\n",
    "        else:\n",
    "            while n.ref is not None:\n",
    "                n = n.ref\n",
    "        n.ref = new_node\n",
    "        \n",
    "    def display_linked_list(self):\n",
    "        n = self.head\n",
    "        \n",
    "        while n is not None:\n",
    "            print(n.value,end=\"->\")\n",
    "            n = n.ref\n",
    "        \n",
    "        \n",
    "            "
   ]
  },
  {
   "cell_type": "code",
   "execution_count": 29,
   "id": "79bbc241",
   "metadata": {},
   "outputs": [
    {
     "name": "stdout",
     "output_type": "stream",
     "text": [
      "20->30->40->"
     ]
    }
   ],
   "source": [
    "l1 =Linked_List()\n",
    "l1.append(20)\n",
    "l1.append(30)\n",
    "l1.append(40)\n",
    "l1.display_linked_list()"
   ]
  },
  {
   "cell_type": "code",
   "execution_count": 38,
   "id": "081beb1f",
   "metadata": {},
   "outputs": [],
   "source": [
    "#Double Linked List\n",
    "\n",
    "class Node:\n",
    "    def __init__(self, value, nref=None, pref=None):\n",
    "        self.value = value\n",
    "        self.nref = nref  # next reference\n",
    "        self.pref = pref  # previous reference\n",
    "\n",
    "class Linked_List:\n",
    "    def __init__(self):\n",
    "        self.head = None\n",
    "\n",
    "    def append(self, value):\n",
    "        new_node = Node(value)\n",
    "\n",
    "        if self.head is None:\n",
    "            self.head = new_node\n",
    "        else:\n",
    "            n = self.head\n",
    "            while n.nref is not None:\n",
    "                n = n.nref\n",
    "            n.nref = new_node\n",
    "            new_node.pref = n\n",
    "\n",
    "    def display_linked_list(self):\n",
    "        n = self.head\n",
    "\n",
    "        while n is not None:\n",
    "            print(n.value, end=\"->\")\n",
    "            n = n.nref"
   ]
  },
  {
   "cell_type": "code",
   "execution_count": 39,
   "id": "9e7bff4a",
   "metadata": {},
   "outputs": [
    {
     "name": "stdout",
     "output_type": "stream",
     "text": [
      "20->30->40->"
     ]
    }
   ],
   "source": [
    "l1 = Linked_List()\n",
    "l1.append(20)\n",
    "l1.append(30)\n",
    "l1.append(40)\n",
    "l1.display_linked_list()"
   ]
  },
  {
   "cell_type": "markdown",
   "id": "ad2311ba",
   "metadata": {},
   "source": [
    "<h3> 2.Convert Array to linked list"
   ]
  },
  {
   "cell_type": "code",
   "execution_count": 36,
   "id": "d0504712",
   "metadata": {},
   "outputs": [],
   "source": [
    "class Node:\n",
    "    def __init__(self, value, nref=None):\n",
    "        self.value = value\n",
    "        self.nref = nref  # next reference\n",
    "\n",
    "class Linked_List:\n",
    "    def __init__(self):\n",
    "        self.head = None\n",
    "\n",
    "    def append(self, value):\n",
    "        new_node = Node(value)\n",
    "\n",
    "        if self.head is None:\n",
    "            self.head = new_node\n",
    "        else:\n",
    "            n = self.head\n",
    "            while n.nref is not None:\n",
    "                n = n.nref\n",
    "            n.nref = new_node\n",
    "\n",
    "    def convert_array_to_linked_list(self, array):\n",
    "        for value in array:\n",
    "            self.append(value)\n",
    "\n",
    "    def display_linked_list(self):\n",
    "        n = self.head\n",
    "\n",
    "        while n is not None:\n",
    "            print(n.value, end=\"->\")\n",
    "            n = n.nref"
   ]
  },
  {
   "cell_type": "code",
   "execution_count": 37,
   "id": "c3513a9c",
   "metadata": {},
   "outputs": [
    {
     "name": "stdout",
     "output_type": "stream",
     "text": [
      "10->20->30->40->50->"
     ]
    }
   ],
   "source": [
    "# Example usage:\n",
    "array_to_convert = [10, 20, 30, 40, 50]\n",
    "\n",
    "l1 = Linked_List()\n",
    "l1.convert_array_to_linked_list(array_to_convert)\n",
    "l1.display_linked_list()"
   ]
  },
  {
   "cell_type": "markdown",
   "id": "4e0a6400",
   "metadata": {},
   "source": [
    "<h3> 3.Add a Node at the beginning and end"
   ]
  },
  {
   "cell_type": "code",
   "execution_count": 42,
   "id": "f9ea35ce",
   "metadata": {},
   "outputs": [],
   "source": [
    "class Node:\n",
    "    def __init__(self,value,ref=None):\n",
    "        self.value = value\n",
    "        self.ref = ref\n",
    "        \n",
    "class Linked_List:\n",
    "    def __init__(self):\n",
    "        self.head = None\n",
    "        \n",
    "    def add_begin(self,value):\n",
    "        new_node = Node(value)\n",
    "        new_node.ref = self.head\n",
    "        self.head = new_node\n",
    "        \n",
    "    def add_end(self,value):\n",
    "        new_node = Node(value)\n",
    "        if self.head is None:\n",
    "            self.head = new_node\n",
    "        else:\n",
    "            n = self.head\n",
    "            while n.ref is not None:\n",
    "                n = n.ref\n",
    "            n.ref =new_node\n",
    "            \n",
    "    def display_linked_list(self):\n",
    "        n = self.head\n",
    "\n",
    "        while n is not None:\n",
    "            print(n.value, end=\"->\")\n",
    "            n = n.ref\n",
    "        "
   ]
  },
  {
   "cell_type": "code",
   "execution_count": 43,
   "id": "66c08567",
   "metadata": {},
   "outputs": [
    {
     "name": "stdout",
     "output_type": "stream",
     "text": [
      "10->20->30->"
     ]
    }
   ],
   "source": [
    "l1 = Linked_List()\n",
    "l1.add_begin(10)\n",
    "l1.add_end(20)\n",
    "l1.add_end(30)\n",
    "l1.display_linked_list()"
   ]
  },
  {
   "cell_type": "markdown",
   "id": "0b8aaee0",
   "metadata": {},
   "source": [
    "<h3> 4.Delete node with the value specified"
   ]
  },
  {
   "cell_type": "code",
   "execution_count": 44,
   "id": "e40f94c2",
   "metadata": {},
   "outputs": [],
   "source": [
    "class Node:\n",
    "    def __init__(self, value, ref=None):\n",
    "        self.value = value\n",
    "        self.ref = ref\n",
    "\n",
    "class Linked_List:\n",
    "    def __init__(self):\n",
    "        self.head = None\n",
    "\n",
    "    def add_end(self, value):\n",
    "        new_node = Node(value)\n",
    "        if self.head is None:\n",
    "            self.head = new_node\n",
    "        else:\n",
    "            n = self.head\n",
    "            while n.ref is not None:\n",
    "                n = n.ref\n",
    "            n.ref = new_node\n",
    "\n",
    "    def delete_node(self, value):\n",
    "        current = self.head\n",
    "\n",
    "        # Check if the node to be deleted is the head\n",
    "        if current is not None and current.value == value:\n",
    "            self.head = current.ref\n",
    "            return\n",
    "\n",
    "        # Search for the node to be deleted\n",
    "        while current is not None:\n",
    "            if current.value == value:\n",
    "                break\n",
    "            prev = current\n",
    "            current = current.ref\n",
    "\n",
    "        # If the node is not found\n",
    "        if current is None:\n",
    "            print(f\"Node with value {value} not found.\")\n",
    "            return\n",
    "\n",
    "        # Unlink the node from the linked list\n",
    "        prev.ref = current.ref\n",
    "\n",
    "    def display_linked_list(self):\n",
    "        n = self.head\n",
    "\n",
    "        while n is not None:\n",
    "            print(n.value, end=\" -> \")\n",
    "            n = n.ref"
   ]
  },
  {
   "cell_type": "code",
   "execution_count": 45,
   "id": "d83c6148",
   "metadata": {},
   "outputs": [
    {
     "name": "stdout",
     "output_type": "stream",
     "text": [
      "10 -> 20 -> 30 -> \n",
      "Linked List after deletion:\n",
      "10 -> 30 -> "
     ]
    }
   ],
   "source": [
    "ll = Linked_List()\n",
    "ll.add_end(10)\n",
    "ll.add_end(20)\n",
    "ll.add_end(30)\n",
    "ll.display_linked_list()\n",
    "\n",
    "# Delete a node with value 20\n",
    "ll.delete_node(20)\n",
    "print(\"\\nLinked List after deletion:\")\n",
    "ll.display_linked_list()"
   ]
  },
  {
   "cell_type": "markdown",
   "id": "f23b1224",
   "metadata": {},
   "source": [
    "<h3> 5.Insert a node after & before a node with x data"
   ]
  },
  {
   "cell_type": "code",
   "execution_count": 46,
   "id": "818426f9",
   "metadata": {},
   "outputs": [],
   "source": [
    "class Node:\n",
    "    def __init__(self, value, ref=None):\n",
    "        self.value = value\n",
    "        self.ref = ref\n",
    "\n",
    "class Linked_List:\n",
    "    def __init__(self):\n",
    "        self.head = None\n",
    "\n",
    "    def add_end(self, value):\n",
    "        new_node = Node(value)\n",
    "        if self.head is None:\n",
    "            self.head = new_node\n",
    "        else:\n",
    "            n = self.head\n",
    "            while n.ref is not None:\n",
    "                n = n.ref\n",
    "            n.ref = new_node\n",
    "\n",
    "    def insert_after(self, target_value, new_value):\n",
    "        n = self.head\n",
    "        while n is not None:\n",
    "            if n.value == target_value:\n",
    "                new_node = Node(new_value)\n",
    "                new_node.ref = n.ref\n",
    "                n.ref = new_node\n",
    "                return\n",
    "            n = n.ref\n",
    "        print(f\"Node with value {target_value} not found. Unable to insert after.\")\n",
    "\n",
    "    def insert_before(self, target_value, new_value):\n",
    "        if self.head is None:\n",
    "            print(\"Linked list is empty. Unable to insert before.\")\n",
    "            return\n",
    "\n",
    "        if self.head.value == target_value:\n",
    "            new_node = Node(new_value)\n",
    "            new_node.ref = self.head\n",
    "            self.head = new_node\n",
    "            return\n",
    "\n",
    "        prev = None\n",
    "        current = self.head\n",
    "\n",
    "        while current is not None:\n",
    "            if current.value == target_value:\n",
    "                new_node = Node(new_value)\n",
    "                prev.ref = new_node\n",
    "                new_node.ref = current\n",
    "                return\n",
    "            prev = current\n",
    "            current = current.ref\n",
    "\n",
    "        print(f\"Node with value {target_value} not found. Unable to insert before.\")\n",
    "\n",
    "    def display_linked_list(self):\n",
    "        n = self.head\n",
    "\n",
    "        while n is not None:\n",
    "            print(n.value, end=\" -> \")\n",
    "            n = n.ref"
   ]
  },
  {
   "cell_type": "code",
   "execution_count": 47,
   "id": "acc4472a",
   "metadata": {},
   "outputs": [
    {
     "name": "stdout",
     "output_type": "stream",
     "text": [
      "10 -> 20 -> 30 -> \n",
      "Linked List after insertion (after 20):\n",
      "10 -> 20 -> 25 -> 30 -> \n",
      "Linked List after insertion (before 20):\n",
      "10 -> 15 -> 20 -> 25 -> 30 -> "
     ]
    }
   ],
   "source": [
    "# Example usage:\n",
    "ll = Linked_List()\n",
    "ll.add_end(10)\n",
    "ll.add_end(20)\n",
    "ll.add_end(30)\n",
    "ll.display_linked_list()\n",
    "\n",
    "# Insert after node with value 20\n",
    "ll.insert_after(20, 25)\n",
    "print(\"\\nLinked List after insertion (after 20):\")\n",
    "ll.display_linked_list()\n",
    "\n",
    "# Insert before node with value 20\n",
    "ll.insert_before(20, 15)\n",
    "print(\"\\nLinked List after insertion (before 20):\")\n",
    "ll.display_linked_list()"
   ]
  },
  {
   "cell_type": "markdown",
   "id": "3e9ca8d7",
   "metadata": {},
   "source": [
    "<h3> 6.Print all elements by order & reverse by order"
   ]
  },
  {
   "cell_type": "code",
   "execution_count": 48,
   "id": "71f0be8a",
   "metadata": {},
   "outputs": [],
   "source": [
    "class Node:\n",
    "    def __init__(self, value, ref=None):\n",
    "        self.value = value\n",
    "        self.ref = ref\n",
    "\n",
    "class Linked_List:\n",
    "    def __init__(self):\n",
    "        self.head = None\n",
    "\n",
    "    def add_end(self, value):\n",
    "        new_node = Node(value)\n",
    "        if self.head is None:\n",
    "            self.head = new_node\n",
    "        else:\n",
    "            n = self.head\n",
    "            while n.ref is not None:\n",
    "                n = n.ref\n",
    "            n.ref = new_node\n",
    "\n",
    "    def display_linked_list(self):\n",
    "        n = self.head\n",
    "\n",
    "        print(\"Forward Order:\")\n",
    "        while n is not None:\n",
    "            print(n.value, end=\" -> \")\n",
    "            n = n.ref\n",
    "        print()\n",
    "\n",
    "    def display_reverse_linked_list(self):\n",
    "        values = []\n",
    "        n = self.head\n",
    "\n",
    "        while n is not None:\n",
    "            values.insert(0, n.value)\n",
    "            n = n.ref\n",
    "\n",
    "        print(\"Reverse Order:\")\n",
    "        for value in values:\n",
    "            print(value, end=\" -> \")\n",
    "        print()"
   ]
  },
  {
   "cell_type": "code",
   "execution_count": 49,
   "id": "95b14d93",
   "metadata": {},
   "outputs": [
    {
     "name": "stdout",
     "output_type": "stream",
     "text": [
      "Forward Order:\n",
      "10 -> 20 -> 30 -> \n",
      "Reverse Order:\n",
      "30 -> 20 -> 10 -> \n"
     ]
    }
   ],
   "source": [
    "# Example usage:\n",
    "ll = Linked_List()\n",
    "ll.add_end(10)\n",
    "ll.add_end(20)\n",
    "ll.add_end(30)\n",
    "ll.display_linked_list()\n",
    "ll.display_reverse_linked_list()"
   ]
  },
  {
   "cell_type": "markdown",
   "id": "1dc24da4",
   "metadata": {},
   "source": [
    "<h3> 7.Write a program to remove duplicates in a sorted singly linked list"
   ]
  },
  {
   "cell_type": "code",
   "execution_count": 50,
   "id": "8131b2b3",
   "metadata": {},
   "outputs": [],
   "source": [
    "class Node:\n",
    "    def __init__(self, value, ref=None):\n",
    "        self.value = value\n",
    "        self.ref = ref\n",
    "\n",
    "class Linked_List:\n",
    "    def __init__(self):\n",
    "        self.head = None\n",
    "\n",
    "    def add_end(self, value):\n",
    "        new_node = Node(value)\n",
    "        if self.head is None:\n",
    "            self.head = new_node\n",
    "        else:\n",
    "            n = self.head\n",
    "            while n.ref is not None:\n",
    "                n = n.ref\n",
    "            n.ref = new_node\n",
    "\n",
    "    def remove_duplicates(self):\n",
    "        current = self.head\n",
    "\n",
    "        while current is not None and current.ref is not None:\n",
    "            if current.value == current.ref.value:\n",
    "                current.ref = current.ref.ref\n",
    "            else:\n",
    "                current = current.ref\n",
    "\n",
    "    def display_linked_list(self):\n",
    "        n = self.head\n",
    "\n",
    "        while n is not None:\n",
    "            print(n.value, end=\" -> \")\n",
    "            n = n.ref\n",
    "        print()"
   ]
  },
  {
   "cell_type": "code",
   "execution_count": 51,
   "id": "85208841",
   "metadata": {},
   "outputs": [
    {
     "name": "stdout",
     "output_type": "stream",
     "text": [
      "Linked List before removing duplicates:\n",
      "10 -> 20 -> 20 -> 30 -> 30 -> 40 -> \n",
      "\n",
      "Linked List after removing duplicates:\n",
      "10 -> 20 -> 30 -> 40 -> \n"
     ]
    }
   ],
   "source": [
    "# Example usage:\n",
    "ll = Linked_List()\n",
    "ll.add_end(10)\n",
    "ll.add_end(20)\n",
    "ll.add_end(20)\n",
    "ll.add_end(30)\n",
    "ll.add_end(30)\n",
    "ll.add_end(40)\n",
    "\n",
    "print(\"Linked List before removing duplicates:\")\n",
    "ll.display_linked_list()\n",
    "\n",
    "ll.remove_duplicates()\n",
    "\n",
    "print(\"\\nLinked List after removing duplicates:\")\n",
    "ll.display_linked_list()"
   ]
  },
  {
   "cell_type": "code",
   "execution_count": null,
   "id": "3c36b701",
   "metadata": {},
   "outputs": [],
   "source": []
  }
 ],
 "metadata": {
  "kernelspec": {
   "display_name": "Python 3 (ipykernel)",
   "language": "python",
   "name": "python3"
  },
  "language_info": {
   "codemirror_mode": {
    "name": "ipython",
    "version": 3
   },
   "file_extension": ".py",
   "mimetype": "text/x-python",
   "name": "python",
   "nbconvert_exporter": "python",
   "pygments_lexer": "ipython3",
   "version": "3.9.7"
  }
 },
 "nbformat": 4,
 "nbformat_minor": 5
}
