{
 "cells": [
  {
   "cell_type": "markdown",
   "id": "a11445f3",
   "metadata": {},
   "source": [
    "## 1.Implement Bubble Sort in Python."
   ]
  },
  {
   "cell_type": "code",
   "execution_count": 1,
   "id": "06c04f1e",
   "metadata": {},
   "outputs": [
    {
     "name": "stdout",
     "output_type": "stream",
     "text": [
      "Sorted array: [11, 12, 22, 25, 34, 64, 90]\n"
     ]
    }
   ],
   "source": [
    "def bubble_sort(arr):\n",
    "    n = len(arr)\n",
    "    for i in range(n):\n",
    "        for j in range(0, n-i-1):\n",
    "            if arr[j] > arr[j+1]:\n",
    "                arr[j], arr[j+1] = arr[j+1], arr[j]\n",
    "\n",
    "# Example usage:\n",
    "my_list = [64, 34, 25, 12, 22, 11, 90]\n",
    "bubble_sort(my_list)\n",
    "print(\"Sorted array:\", my_list)\n"
   ]
  },
  {
   "cell_type": "markdown",
   "id": "44a0142b",
   "metadata": {},
   "source": [
    "## 2. Implement a function to check if a list is already sorted in ascending order using the bubble sort algorithm"
   ]
  },
  {
   "cell_type": "code",
   "execution_count": 2,
   "id": "72cda43a",
   "metadata": {},
   "outputs": [
    {
     "name": "stdout",
     "output_type": "stream",
     "text": [
      "Is my_list1 sorted? True\n",
      "Is my_list2 sorted? False\n"
     ]
    }
   ],
   "source": [
    "def is_sorted(arr):\n",
    "    n = len(arr)\n",
    "    for i in range(n-1):\n",
    "        if arr[i] > arr[i+1]:\n",
    "            return False\n",
    "    return True\n",
    "\n",
    "# Example usage:\n",
    "my_list1 = [1, 2, 3, 4, 5]\n",
    "my_list2 = [5, 2, 8, 1, 3]\n",
    "\n",
    "print(\"Is my_list1 sorted?\", is_sorted(my_list1))  # Output: True\n",
    "print(\"Is my_list2 sorted?\", is_sorted(my_list2))  # Output: False"
   ]
  },
  {
   "cell_type": "markdown",
   "id": "94f4f8da",
   "metadata": {},
   "source": [
    "## 3.Implement an optimized version of the bubble sort algorithm that stops if the list is already sorted."
   ]
  },
  {
   "cell_type": "code",
   "execution_count": 3,
   "id": "8f8d2342",
   "metadata": {},
   "outputs": [
    {
     "name": "stdout",
     "output_type": "stream",
     "text": [
      "Sorted array: [11, 12, 22, 25, 34, 64, 90]\n"
     ]
    }
   ],
   "source": [
    "def optimized_bubble_sort(arr):\n",
    "    n = len(arr)\n",
    "    for i in range(n):\n",
    "        # Flag to check if any swapping occurred in this pass\n",
    "        swapped = False\n",
    "\n",
    "        for j in range(0, n-i-1):\n",
    "            if arr[j] > arr[j+1]:\n",
    "                arr[j], arr[j+1] = arr[j+1], arr[j]\n",
    "                swapped = True\n",
    "\n",
    "        # If no swapping occurred, the list is already sorted\n",
    "        if not swapped:\n",
    "            break\n",
    "\n",
    "# Example usage:\n",
    "my_list = [64, 34, 25, 12, 22, 11, 90]\n",
    "optimized_bubble_sort(my_list)\n",
    "print(\"Sorted array:\", my_list)\n"
   ]
  }
 ],
 "metadata": {
  "kernelspec": {
   "display_name": "Python 3 (ipykernel)",
   "language": "python",
   "name": "python3"
  },
  "language_info": {
   "codemirror_mode": {
    "name": "ipython",
    "version": 3
   },
   "file_extension": ".py",
   "mimetype": "text/x-python",
   "name": "python",
   "nbconvert_exporter": "python",
   "pygments_lexer": "ipython3",
   "version": "3.9.7"
  }
 },
 "nbformat": 4,
 "nbformat_minor": 5
}
